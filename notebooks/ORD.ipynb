{
  "nbformat": 4,
  "nbformat_minor": 0,
  "metadata": {
    "colab": {
      "provenance": []
    },
    "kernelspec": {
      "name": "python3",
      "display_name": "Python 3"
    },
    "language_info": {
      "name": "python"
    },
    "gpuClass": "standard"
  },
  "cells": [
    {
      "cell_type": "code",
      "source": [
        "%pip install ord_schema\n",
        "%pip install wget"
      ],
      "metadata": {
        "id": "J3gnjDBJjVjQ"
      },
      "execution_count": null,
      "outputs": []
    },
    {
      "cell_type": "code",
      "source": [
        "from google.colab import drive\n",
        "drive.mount('/content/drive')"
      ],
      "metadata": {
        "colab": {
          "base_uri": "https://localhost:8080/"
        },
        "id": "QTJOPeFrqT2L",
        "outputId": "87a215a5-2f9f-44b9-d38b-ab038719d993"
      },
      "execution_count": null,
      "outputs": [
        {
          "output_type": "stream",
          "name": "stdout",
          "text": [
            "Mounted at /content/drive\n"
          ]
        }
      ]
    },
    {
      "cell_type": "code",
      "execution_count": null,
      "metadata": {
        "id": "dSEPqdJzjFMF"
      },
      "outputs": [],
      "source": [
        "import ord_schema\n",
        "from ord_schema import message_helpers\n",
        "from ord_schema.proto import dataset_pb2\n",
        "\n",
        "import pandas as pd\n",
        "import numpy as np\n",
        "\n",
        "import os\n",
        "import wget\n",
        "from tqdm import tqdm\n",
        "import pickle\n",
        "\n",
        "import matplotlib.pyplot as plt"
      ]
    },
    {
      "cell_type": "markdown",
      "source": [
        "### Part 1. Data parsing"
      ],
      "metadata": {
        "id": "9VgRkATbX7Og"
      }
    },
    {
      "cell_type": "code",
      "source": [
        "def get_value_by_type(data, type_value, type_key = 'type', value_key = 'value'):\n",
        "  '''Returns value for a given type from XML-like structure'''\n",
        "  for child in data:\n",
        "    if getattr(child, type_key, None) == type_value:\n",
        "      return getattr(child, value_key, None)\n",
        "  return None"
      ],
      "metadata": {
        "id": "ajR9Dqeu8g4c"
      },
      "execution_count": null,
      "outputs": []
    },
    {
      "cell_type": "code",
      "source": [
        "def get_product_yield(prod):\n",
        "  '''Returns product yield'''\n",
        "  if len(prod.measurements)==0:\n",
        "    y = None\n",
        "  else:\n",
        "    for i in range(len(prod.measurements)):\n",
        "      y = prod.measurements[i].percentage.value\n",
        "      if y == 0:\n",
        "        y = None\n",
        "      break\n",
        "  return y"
      ],
      "metadata": {
        "id": "OvndIOOOYPV_"
      },
      "execution_count": null,
      "outputs": []
    },
    {
      "cell_type": "code",
      "source": [
        "def parse_reactions_from_dataset(data):\n",
        "\n",
        "  '''Parses reactions information from a given dataset'''\n",
        "\n",
        "  # reactions list\n",
        "  reactions_list = []\n",
        "\n",
        "  # iterate over reactions in dataset\n",
        "  for i, r in enumerate(data.reactions):\n",
        "\n",
        "    reaction_dict = dict()\n",
        "    inputs_reaction_roles, inputs_smiles, outcomes_reaction_roles, outcomes_smiles, yields = [], [], [], [], []\n",
        "\n",
        "    # get reaction id\n",
        "    reaction_dict['reaction_id'] = r.reaction_id\n",
        "\n",
        "    # get reaction smiles\n",
        "    reaction_smiles = get_value_by_type(r.identifiers, 6) # 6 = REACTION_CXSMILES (extended smiles)\n",
        "    reaction_dict['reaction_smiles'] = reaction_smiles if reaction_smiles != None else get_value_by_type(r.identifiers, 2) # 2 = REACTION_SMILES (regular smiles)\n",
        "\n",
        "    # get reaction type\n",
        "    reaction_dict['reaction_type'] = get_value_by_type(r.identifiers, 5) # 5 = reaction type\n",
        "\n",
        "    # iterate over inputs and components\n",
        "    for inp in r.inputs.values():\n",
        "      for comp in inp.components:\n",
        "        # get component reaction role\n",
        "        reaction_role = getattr(comp, 'reaction_role', None)\n",
        "        inputs_reaction_roles.append(reaction_role)\n",
        "        # get component identifier\n",
        "        identifier = get_value_by_type(comp.identifiers, 2) # 2 = smiles\n",
        "        if identifier == None:\n",
        "          identifier = get_value_by_type(comp.identifiers, 6) # 6 = name\n",
        "        inputs_smiles.append(identifier)\n",
        "    reaction_dict['inputs_reaction_roles'] = inputs_reaction_roles\n",
        "    reaction_dict['inputs_smiles'] = inputs_smiles\n",
        "  \n",
        "    # iterate over outcomes\n",
        "    for out in r.outcomes:\n",
        "      # get reaction time\n",
        "      reaction_time = getattr(out, 'reaction_time', None)\n",
        "      if reaction_time.units != 0: # we need this condition because if there is no reaction time it returns 0 (not None)\n",
        "        reaction_dict['reaction_time_value'] = reaction_time.value\n",
        "        reaction_dict['reaction_time_units'] = reaction_time.units\n",
        "\n",
        "      # iterate over products\n",
        "      for prod in out.products:\n",
        "        # get product reaction role\n",
        "        reaction_role = getattr(prod, 'reaction_role', None)\n",
        "        outcomes_reaction_roles.append(reaction_role)\n",
        "        # get product identifier\n",
        "        identifier = get_value_by_type(prod.identifiers, 2) # 2 = smiles\n",
        "        if identifier == None:\n",
        "          identifier = get_value_by_type(prod.identifiers, 6) # 6 = name\n",
        "        outcomes_smiles.append(identifier)\n",
        "        # get product yields\n",
        "        yields.append(get_product_yield(prod))\n",
        "      reaction_dict['outcomes_reaction_roles'] = outcomes_reaction_roles\n",
        "      reaction_dict['outcomes_smiles'] = outcomes_smiles\n",
        "      reaction_dict['yields'] = yields\n",
        "\n",
        "    # get temperature\n",
        "    reaction_dict['temperature_control_type'] = r.conditions.temperature.control.type\n",
        "    temp_units, temp_val = r.conditions.temperature.setpoint.units, r.conditions.temperature.setpoint.value\n",
        "    reaction_dict['temperature_value'], reaction_dict['temperature_units'] = (temp_val, temp_units) if temp_units != 0 else (25.0, 1) # RT = 25 C\n",
        "\n",
        "    # get pressure\n",
        "    reaction_dict['pressure_control_type'] = r.conditions.pressure.control.type\n",
        "    pres_units, pres_val = r.conditions.pressure.setpoint.units, r.conditions.pressure.setpoint.value\n",
        "    reaction_dict['pressure_value'], reaction_dict['pressure_units'] = (pres_val, pres_units) if pres_units != 0 else (1, 2) # atmospheric pressure = 1 atm\n",
        "    \n",
        "    # get atmosphere\n",
        "    reaction_dict['atmosphere'] = r.conditions.pressure.atmosphere.type\n",
        "\n",
        "    # get specific conditions\n",
        "    reaction_dict['specific_conditions'] = None\n",
        "    sp_cond_dict = {'photo': r.conditions.illumination.type,\n",
        "                    'electro': r.conditions.electrochemistry.type,\n",
        "                    'flow': r.conditions.flow.type}\n",
        "    for k, v in sp_cond_dict.items():\n",
        "      if v != 0:\n",
        "        reaction_dict['specific_conditions'] = k\n",
        "      continue\n",
        "\n",
        "    reactions_list.append(reaction_dict)\n",
        "  dataset_dict = {data.dataset_id: reactions_list}\n",
        "  return dataset_dict"
      ],
      "metadata": {
        "id": "JF-SizYXmlue"
      },
      "execution_count": null,
      "outputs": []
    },
    {
      "cell_type": "code",
      "source": [
        "with open('/content/drive/MyDrive/SYNCO/reactions_datasets/links.txt', 'r') as f:\n",
        "  dataset_urls = f.readlines()"
      ],
      "metadata": {
        "id": "Uk28FyK6Q6Ng"
      },
      "execution_count": null,
      "outputs": []
    },
    {
      "cell_type": "code",
      "source": [
        "datasets = []\n",
        "for url in tqdm(dataset_urls, ncols=100):\n",
        "  # download dataset\n",
        "  pb = wget.download(url)\n",
        "  # load dataset\n",
        "  data = message_helpers.load_message(pb, dataset_pb2.Dataset())\n",
        "  # parse reactions\n",
        "  dataset_dict = parse_reactions_from_dataset(data)\n",
        "  datasets.append(dataset_dict)"
      ],
      "metadata": {
        "id": "Ufxe81Qaoo6B",
        "colab": {
          "base_uri": "https://localhost:8080/"
        },
        "outputId": "a10fbde1-120c-450a-df9e-3f1d370ff606"
      },
      "execution_count": null,
      "outputs": [
        {
          "output_type": "stream",
          "name": "stderr",
          "text": [
            "100%|█████████████████████████████████████████████████████████████| 515/515 [14:41<00:00,  1.71s/it]\n"
          ]
        }
      ]
    },
    {
      "cell_type": "code",
      "source": [
        "# save datasets as list\n",
        "# with open('datasets_list', 'wb') as fp: \n",
        "#    pickle.dump(datasets, fp)\n",
        "# !cp datasets_list 'drive/My Drive/'"
      ],
      "metadata": {
        "id": "TV-6s4vQZR8f"
      },
      "execution_count": null,
      "outputs": []
    },
    {
      "cell_type": "markdown",
      "source": [
        "### Part 2. Dataframe creation"
      ],
      "metadata": {
        "id": "PhB69iBdZcvX"
      }
    },
    {
      "cell_type": "code",
      "source": [
        "roles_dict = {0: 'UNSPECIFIED',\n",
        "              1: 'REACTANT',\n",
        "              2: 'REAGENT',\n",
        "              3: 'SOLVENT',\n",
        "              4: 'CATALYST',\n",
        "              5: 'WORKUP',\n",
        "              6: 'INTERNAL',\n",
        "              7: 'AUTHENTIC_STANDARD',\n",
        "              8: 'PRODUCT'}\n",
        "\n",
        "def get_unique_reaction_roles(dataset_reactions, reaction_roles):\n",
        "  '''Returns unique reaction roles present in a given dataset'''\n",
        "  roles = set()\n",
        "  for r in dataset_reactions:\n",
        "    for i in r[reaction_roles]:\n",
        "      roles.add(i)\n",
        "  roles = list(map(roles_dict.get, roles))\n",
        "  return roles"
      ],
      "metadata": {
        "id": "tTe05h3YWsff"
      },
      "execution_count": null,
      "outputs": []
    },
    {
      "cell_type": "code",
      "source": [
        "def get_role_smiles(reactions_list, comp_type, role_key):\n",
        "  '''Finds all smiles of a given reaction role in reaction dictionary'''\n",
        "  all = []\n",
        "  for r in reactions_list:\n",
        "    comps = [r[f'{comp_type}_smiles'][i] for i in range(len(r[f'{comp_type}_smiles'])) if r[f'{comp_type}_reaction_roles'][i]==role_key]\n",
        "    all.append(comps)\n",
        "  return all"
      ],
      "metadata": {
        "id": "ZEI0B-wA0gXQ"
      },
      "execution_count": null,
      "outputs": []
    },
    {
      "cell_type": "code",
      "source": [
        "def create_column(reactions_list, col_name):\n",
        "  col_list = [r[col_name] for r in reactions_list]\n",
        "  return col_list"
      ],
      "metadata": {
        "id": "mq01BQcgVPjw"
      },
      "execution_count": null,
      "outputs": []
    },
    {
      "cell_type": "code",
      "source": [
        "def create_dataframe(dataset_id, reactions_list):\n",
        "\n",
        "  '''Creates pandas dataframe from a list of reactions'''\n",
        "\n",
        "  # create columns\n",
        "  inputs_columns = ['inputs_'+i for i in get_unique_reaction_roles(reactions_list, 'inputs_reaction_roles')]\n",
        "  outcomes_columns = ['outcomes_'+i for i in get_unique_reaction_roles(reactions_list, 'outcomes_reaction_roles')]\n",
        "  other_columns = ['reaction_id', 'reaction_smiles', 'reaction_type', 'specific_conditions',\n",
        "                 'yields', 'temperature_value', 'temperature_units', 'temperature_control_type',\n",
        "                 'pressure_value', 'pressure_units', 'pressure_control_type', 'atmosphere']\n",
        "  columns = inputs_columns + outcomes_columns + other_columns\n",
        "\n",
        "  # create dataframe\n",
        "  df = pd.DataFrame(columns=columns)\n",
        "\n",
        "  # fill in columns\n",
        "  for col in inputs_columns:\n",
        "    df[col] = get_role_smiles(reactions_list, 'inputs', list(roles_dict.values()).index(col.split('_')[1]))\n",
        "  for col in outcomes_columns:\n",
        "    df[col] = get_role_smiles(reactions_list, 'outcomes', list(roles_dict.values()).index(col.split('_')[1]))\n",
        "  for col in other_columns:\n",
        "    df[col] = create_column(reactions_list, col)\n",
        "  df['dataset_id'] = [dataset_id for i in range(len(reactions_list))]\n",
        "\n",
        "  return df"
      ],
      "metadata": {
        "id": "f3axNlio_rjZ"
      },
      "execution_count": null,
      "outputs": []
    },
    {
      "cell_type": "code",
      "source": [
        "# create dataframes for every dataset and concatenate them in one\n",
        "frames = []\n",
        "for dataset in tqdm(datasets, ncols=100):\n",
        "  for k, v in dataset.items():\n",
        "    f = create_dataframe(k, v)\n",
        "    frames.append(f)\n",
        "final_df = pd.concat(frames, ignore_index=True)"
      ],
      "metadata": {
        "id": "Hwz2jJPEMPn4",
        "colab": {
          "base_uri": "https://localhost:8080/"
        },
        "outputId": "204d5ad3-8608-4064-8f5c-7c1155e54fc1"
      },
      "execution_count": null,
      "outputs": [
        {
          "output_type": "stream",
          "name": "stderr",
          "text": [
            "100%|█████████████████████████████████████████████████████████████| 515/515 [01:18<00:00,  6.54it/s]\n"
          ]
        }
      ]
    },
    {
      "cell_type": "code",
      "source": [
        "final_df_orig = final_df.copy()"
      ],
      "metadata": {
        "id": "gYdloaiof49V"
      },
      "execution_count": null,
      "outputs": []
    },
    {
      "cell_type": "code",
      "source": [
        "# total number of reactions\n",
        "final_df.shape"
      ],
      "metadata": {
        "id": "dF01waqLL6Ot",
        "colab": {
          "base_uri": "https://localhost:8080/"
        },
        "outputId": "9348ce47-008a-4713-d8b5-611e6296eead"
      },
      "execution_count": null,
      "outputs": [
        {
          "output_type": "execute_result",
          "data": {
            "text/plain": [
              "(2271134, 24)"
            ]
          },
          "metadata": {},
          "execution_count": 16
        }
      ]
    },
    {
      "cell_type": "code",
      "source": [
        "# total number of datasets\n",
        "len(final_df.dataset_id.unique())"
      ],
      "metadata": {
        "id": "xwQdfnkvx1NU",
        "colab": {
          "base_uri": "https://localhost:8080/"
        },
        "outputId": "f2779bbb-90ff-4325-a030-703b3b990896"
      },
      "execution_count": null,
      "outputs": [
        {
          "output_type": "execute_result",
          "data": {
            "text/plain": [
              "515"
            ]
          },
          "metadata": {},
          "execution_count": 17
        }
      ]
    },
    {
      "cell_type": "code",
      "source": [
        "fig, ax = plt.subplots(figsize =(8, 4))\n",
        "ax.hist(final_df.dataset_id.value_counts().values, bins = np.linspace(0, 20000, 100))\n",
        "plt.xlabel('number of reactions in a dataset')\n",
        "plt.ylabel('number of datasets')"
      ],
      "metadata": {
        "id": "aR4heDFwKfVz",
        "colab": {
          "base_uri": "https://localhost:8080/",
          "height": 406
        },
        "outputId": "7a0f179d-e4f1-4d33-91ab-3b61771e132a"
      },
      "execution_count": null,
      "outputs": [
        {
          "output_type": "execute_result",
          "data": {
            "text/plain": [
              "Text(0, 0.5, 'number of datasets')"
            ]
          },
          "metadata": {},
          "execution_count": 18
        },
        {
          "output_type": "display_data",
          "data": {
            "text/plain": [
              "<Figure size 800x400 with 1 Axes>"
            ],
            "image/png": "[encoded data removed]"
          },
          "metadata": {}
        }
      ]
    },
    {
      "cell_type": "code",
      "source": [
        "# swap columns\n",
        "final_df = final_df[['dataset_id', 'reaction_id', 'reaction_type', 'reaction_smiles', 'inputs_REACTANT', 'inputs_REAGENT', 'inputs_SOLVENT',\n",
        "         'inputs_CATALYST', 'inputs_INTERNAL', 'inputs_UNSPECIFIED', 'outcomes_PRODUCT', 'outcomes_REACTANT', 'outcomes_CATALYST',\n",
        "         'outcomes_INTERNAL', 'outcomes_UNSPECIFIED', 'temperature_value', 'temperature_units', 'temperature_control_type',\n",
        "         'pressure_value', 'pressure_units', 'pressure_control_type', 'atmosphere', 'specific_conditions', 'yields']]\n",
        "final_df.head()"
      ],
      "metadata": {
        "id": "EkDK3rcvsegc",
        "colab": {
          "base_uri": "https://localhost:8080/",
          "height": 542
        },
        "outputId": "f7deb3c2-68b2-4fea-e5cd-40503d91a3cf"
      },
      "execution_count": null,
      "outputs": [
        {
          "output_type": "execute_result",
          "data": {
            "text/plain": [
              "                                     dataset_id  \\\n",
              "0  ord_dataset-00005539a1e04c809a9a78647bea649c   \n",
              "1  ord_dataset-00005539a1e04c809a9a78647bea649c   \n",
              "2  ord_dataset-00005539a1e04c809a9a78647bea649c   \n",
              "3  ord_dataset-00005539a1e04c809a9a78647bea649c   \n",
              "4  ord_dataset-00005539a1e04c809a9a78647bea649c   \n",
              "\n",
              "                            reaction_id  \\\n",
              "0  ord-56b1f4bfeebc4b8ab990b9804e798aa7   \n",
              "1  ord-1169cbe9fa064a879ac34b2e524a4e69   \n",
              "2  ord-13992005c22d4673aa802b5e140076e8   \n",
              "3  ord-a36b48917c9942d1a34637511773ee1f   \n",
              "4  ord-5fc624fd97b7430eafbe8dcc049d170b   \n",
              "\n",
              "                                       reaction_type reaction_smiles  \\\n",
              "0  1.3.1 [N-arylation with Ar-X] Bromo Buchwald-H...            None   \n",
              "1  1.3.4 [N-arylation with Ar-X] Iodo Buchwald-Ha...            None   \n",
              "2  1.3.4 [N-arylation with Ar-X] Iodo Buchwald-Ha...            None   \n",
              "3  1.3.4 [N-arylation with Ar-X] Iodo Buchwald-Ha...            None   \n",
              "4                      0.0 [Unassigned] Unrecognized            None   \n",
              "\n",
              "                                     inputs_REACTANT  \\\n",
              "0  [CC(C)N1CCNCC1, CCOC1=C(C=C2C(=C1)N=CC(=C2NC3=...   \n",
              "1  [C1=CC=C(C=C1)I, CN1C=NC2=C1C=C(C(=C2F)N)C(=O)OC]   \n",
              "2  [C1=CC=C(C=C1)I, CN1C=NC2=C1C=C(C(=C2F)N)C(=O)OC]   \n",
              "3  [C1=CC=C(C=C1)I, CN1C=NC2=C1C=C(C(=C2F)N)C(=O)OC]   \n",
              "4  [CC1=NC(=C(C=C1)OC2=CC(=NC=C2)Cl)C, C1=CC(=CC=...   \n",
              "\n",
              "                  inputs_REAGENT   inputs_SOLVENT  \\\n",
              "0  [C(=O)([O-])[O-].[Cs+].[Cs+]]               []   \n",
              "1  [C(=O)([O-])[O-].[Cs+].[Cs+]]  [COC1=CC=CC=C1]   \n",
              "2  [C(=O)([O-])[O-].[Cs+].[Cs+]]  [COC1=CC=CC=C1]   \n",
              "3  [C(=O)([O-])[O-].[Cs+].[Cs+]]  [COC1=CC=CC=C1]   \n",
              "4  [C(=O)([O-])[O-].[Cs+].[Cs+]]    [CC(=O)N(C)C]   \n",
              "\n",
              "                                     inputs_CATALYST inputs_INTERNAL  \\\n",
              "0  [C1=CC=C(C=C1)P(C2=CC=CC=C2)C3=C(C4=CC=CC=C4C=...             NaN   \n",
              "1  [CC1(C2=C(C(=CC=C2)P(C3=CC=CC=C3)C4=CC=CC=C4)O...             NaN   \n",
              "2  [CC1(C2=C(C(=CC=C2)P(C3=CC=CC=C3)C4=CC=CC=C4)O...             NaN   \n",
              "3  [CC1(C2=C(C(=CC=C2)P(C3=CC=CC=C3)C4=CC=CC=C4)O...             NaN   \n",
              "4  [CC1(C2=C(C(=CC=C2)P(C3=CC=CC=C3)C4=CC=CC=C4)O...             NaN   \n",
              "\n",
              "  inputs_UNSPECIFIED  ... outcomes_UNSPECIFIED temperature_value  \\\n",
              "0                NaN  ...                  NaN             110.0   \n",
              "1                NaN  ...                  NaN             100.0   \n",
              "2                NaN  ...                  NaN             100.0   \n",
              "3                NaN  ...                  NaN             100.0   \n",
              "4                NaN  ...                  NaN             150.0   \n",
              "\n",
              "  temperature_units temperature_control_type pressure_value  pressure_units  \\\n",
              "0                 1                        0            1.0               2   \n",
              "1                 1                        0            1.0               2   \n",
              "2                 1                        0            1.0               2   \n",
              "3                 1                        0            1.0               2   \n",
              "4                 1                        0            1.0               2   \n",
              "\n",
              "   pressure_control_type  atmosphere  specific_conditions  \\\n",
              "0                      0           0                 None   \n",
              "1                      0           0                 None   \n",
              "2                      0           0                 None   \n",
              "3                      0           0                 None   \n",
              "4                      0           0                 None   \n",
              "\n",
              "                 yields  \n",
              "0   [65.38999938964844]  \n",
              "1  [57.470001220703125]  \n",
              "2   [65.43000030517578]  \n",
              "3   [75.06999969482422]  \n",
              "4   [46.31999969482422]  \n",
              "\n",
              "[5 rows x 24 columns]"
            ],
            "text/html": [
              "\n",
              "  <div id=\"df-d73eec97-cb26-428f-9b72-e690d432c729\">\n",
              "    <div class=\"colab-df-container\">\n",
              "      <div>\n",
              "<style scoped>\n",
              "    .dataframe tbody tr th:only-of-type {\n",
              "        vertical-align: middle;\n",
              "    }\n",
              "\n",
              "    .dataframe tbody tr th {\n",
              "        vertical-align: top;\n",
              "    }\n",
              "\n",
              "    .dataframe thead th {\n",
              "        text-align: right;\n",
              "    }\n",
              "</style>\n",
              "<table border=\"1\" class=\"dataframe\">\n",
              "  <thead>\n",
              "    <tr style=\"text-align: right;\">\n",
              "      <th></th>\n",
              "      <th>dataset_id</th>\n",
              "      <th>reaction_id</th>\n",
              "      <th>reaction_type</th>\n",
              "      <th>reaction_smiles</th>\n",
              "      <th>inputs_REACTANT</th>\n",
              "      <th>inputs_REAGENT</th>\n",
              "      <th>inputs_SOLVENT</th>\n",
              "      <th>inputs_CATALYST</th>\n",
              "      <th>inputs_INTERNAL</th>\n",
              "      <th>inputs_UNSPECIFIED</th>\n",
              "      <th>...</th>\n",
              "      <th>outcomes_UNSPECIFIED</th>\n",
              "      <th>temperature_value</th>\n",
              "      <th>temperature_units</th>\n",
              "      <th>temperature_control_type</th>\n",
              "      <th>pressure_value</th>\n",
              "      <th>pressure_units</th>\n",
              "      <th>pressure_control_type</th>\n",
              "      <th>atmosphere</th>\n",
              "      <th>specific_conditions</th>\n",
              "      <th>yields</th>\n",
              "    </tr>\n",
              "  </thead>\n",
              "  <tbody>\n",
              "    <tr>\n",
              "      <th>0</th>\n",
              "      <td>ord_dataset-00005539a1e04c809a9a78647bea649c</td>\n",
              "      <td>ord-56b1f4bfeebc4b8ab990b9804e798aa7</td>\n",
              "      <td>1.3.1 [N-arylation with Ar-X] Bromo Buchwald-H...</td>\n",
              "      <td>None</td>\n",
              "      <td>[CC(C)N1CCNCC1, CCOC1=C(C=C2C(=C1)N=CC(=C2NC3=...</td>\n",
              "      <td>[C(=O)([O-])[O-].[Cs+].[Cs+]]</td>\n",
              "      <td>[]</td>\n",
              "      <td>[C1=CC=C(C=C1)P(C2=CC=CC=C2)C3=C(C4=CC=CC=C4C=...</td>\n",
              "      <td>NaN</td>\n",
              "      <td>NaN</td>\n",
              "      <td>...</td>\n",
              "      <td>NaN</td>\n",
              "      <td>110.0</td>\n",
              "      <td>1</td>\n",
              "      <td>0</td>\n",
              "      <td>1.0</td>\n",
              "      <td>2</td>\n",
              "      <td>0</td>\n",
              "      <td>0</td>\n",
              "      <td>None</td>\n",
              "      <td>[65.38999938964844]</td>\n",
              "    </tr>\n",
              "    <tr>\n",
              "      <th>1</th>\n",
              "      <td>ord_dataset-00005539a1e04c809a9a78647bea649c</td>\n",
              "      <td>ord-1169cbe9fa064a879ac34b2e524a4e69</td>\n",
              "      <td>1.3.4 [N-arylation with Ar-X] Iodo Buchwald-Ha...</td>\n",
              "      <td>None</td>\n",
              "      <td>[C1=CC=C(C=C1)I, CN1C=NC2=C1C=C(C(=C2F)N)C(=O)OC]</td>\n",
              "      <td>[C(=O)([O-])[O-].[Cs+].[Cs+]]</td>\n",
              "      <td>[COC1=CC=CC=C1]</td>\n",
              "      <td>[CC1(C2=C(C(=CC=C2)P(C3=CC=CC=C3)C4=CC=CC=C4)O...</td>\n",
              "      <td>NaN</td>\n",
              "      <td>NaN</td>\n",
              "      <td>...</td>\n",
              "      <td>NaN</td>\n",
              "      <td>100.0</td>\n",
              "      <td>1</td>\n",
              "      <td>0</td>\n",
              "      <td>1.0</td>\n",
              "      <td>2</td>\n",
              "      <td>0</td>\n",
              "      <td>0</td>\n",
              "      <td>None</td>\n",
              "      <td>[57.470001220703125]</td>\n",
              "    </tr>\n",
              "    <tr>\n",
              "      <th>2</th>\n",
              "      <td>ord_dataset-00005539a1e04c809a9a78647bea649c</td>\n",
              "      <td>ord-13992005c22d4673aa802b5e140076e8</td>\n",
              "      <td>1.3.4 [N-arylation with Ar-X] Iodo Buchwald-Ha...</td>\n",
              "      <td>None</td>\n",
              "      <td>[C1=CC=C(C=C1)I, CN1C=NC2=C1C=C(C(=C2F)N)C(=O)OC]</td>\n",
              "      <td>[C(=O)([O-])[O-].[Cs+].[Cs+]]</td>\n",
              "      <td>[COC1=CC=CC=C1]</td>\n",
              "      <td>[CC1(C2=C(C(=CC=C2)P(C3=CC=CC=C3)C4=CC=CC=C4)O...</td>\n",
              "      <td>NaN</td>\n",
              "      <td>NaN</td>\n",
              "      <td>...</td>\n",
              "      <td>NaN</td>\n",
              "      <td>100.0</td>\n",
              "      <td>1</td>\n",
              "      <td>0</td>\n",
              "      <td>1.0</td>\n",
              "      <td>2</td>\n",
              "      <td>0</td>\n",
              "      <td>0</td>\n",
              "      <td>None</td>\n",
              "      <td>[65.43000030517578]</td>\n",
              "    </tr>\n",
              "    <tr>\n",
              "      <th>3</th>\n",
              "      <td>ord_dataset-00005539a1e04c809a9a78647bea649c</td>\n",
              "      <td>ord-a36b48917c9942d1a34637511773ee1f</td>\n",
              "      <td>1.3.4 [N-arylation with Ar-X] Iodo Buchwald-Ha...</td>\n",
              "      <td>None</td>\n",
              "      <td>[C1=CC=C(C=C1)I, CN1C=NC2=C1C=C(C(=C2F)N)C(=O)OC]</td>\n",
              "      <td>[C(=O)([O-])[O-].[Cs+].[Cs+]]</td>\n",
              "      <td>[COC1=CC=CC=C1]</td>\n",
              "      <td>[CC1(C2=C(C(=CC=C2)P(C3=CC=CC=C3)C4=CC=CC=C4)O...</td>\n",
              "      <td>NaN</td>\n",
              "      <td>NaN</td>\n",
              "      <td>...</td>\n",
              "      <td>NaN</td>\n",
              "      <td>100.0</td>\n",
              "      <td>1</td>\n",
              "      <td>0</td>\n",
              "      <td>1.0</td>\n",
              "      <td>2</td>\n",
              "      <td>0</td>\n",
              "      <td>0</td>\n",
              "      <td>None</td>\n",
              "      <td>[75.06999969482422]</td>\n",
              "    </tr>\n",
              "    <tr>\n",
              "      <th>4</th>\n",
              "      <td>ord_dataset-00005539a1e04c809a9a78647bea649c</td>\n",
              "      <td>ord-5fc624fd97b7430eafbe8dcc049d170b</td>\n",
              "      <td>0.0 [Unassigned] Unrecognized</td>\n",
              "      <td>None</td>\n",
              "      <td>[CC1=NC(=C(C=C1)OC2=CC(=NC=C2)Cl)C, C1=CC(=CC=...</td>\n",
              "      <td>[C(=O)([O-])[O-].[Cs+].[Cs+]]</td>\n",
              "      <td>[CC(=O)N(C)C]</td>\n",
              "      <td>[CC1(C2=C(C(=CC=C2)P(C3=CC=CC=C3)C4=CC=CC=C4)O...</td>\n",
              "      <td>NaN</td>\n",
              "      <td>NaN</td>\n",
              "      <td>...</td>\n",
              "      <td>NaN</td>\n",
              "      <td>150.0</td>\n",
              "      <td>1</td>\n",
              "      <td>0</td>\n",
              "      <td>1.0</td>\n",
              "      <td>2</td>\n",
              "      <td>0</td>\n",
              "      <td>0</td>\n",
              "      <td>None</td>\n",
              "      <td>[46.31999969482422]</td>\n",
              "    </tr>\n",
              "  </tbody>\n",
              "</table>\n",
              "<p>5 rows × 24 columns</p>\n",
              "</div>\n",
              "      <button class=\"colab-df-convert\" onclick=\"convertToInteractive('df-d73eec97-cb26-428f-9b72-e690d432c729')\"\n",
              "              title=\"Convert this dataframe to an interactive table.\"\n",
              "              style=\"display:none;\">\n",
              "        \n",
              "  <svg xmlns=\"http://www.w3.org/2000/svg\" height=\"24px\"viewBox=\"0 0 24 24\"\n",
              "       width=\"24px\">\n",
              "    <path d=\"M0 0h24v24H0V0z\" fill=\"none\"/>\n",
              "    <path d=\"M18.56 5.44l.94 2.06.94-2.06 2.06-.94-2.06-.94-.94-2.06-.94 2.06-2.06.94zm-11 1L8.5 8.5l.94-2.06 2.06-.94-2.06-.94L8.5 2.5l-.94 2.06-2.06.94zm10 10l.94 2.06.94-2.06 2.06-.94-2.06-.94-.94-2.06-.94 2.06-2.06.94z\"/><path d=\"M17.41 7.96l-1.37-1.37c-.4-.4-.92-.59-1.43-.59-.52 0-1.04.2-1.43.59L10.3 9.45l-7.72 7.72c-.78.78-.78 2.05 0 2.83L4 21.41c.39.39.9.59 1.41.59.51 0 1.02-.2 1.41-.59l7.78-7.78 2.81-2.81c.8-.78.8-2.07 0-2.86zM5.41 20L4 18.59l7.72-7.72 1.47 1.35L5.41 20z\"/>\n",
              "  </svg>\n",
              "      </button>\n",
              "      \n",
              "  <style>\n",
              "    .colab-df-container {\n",
              "      display:flex;\n",
              "      flex-wrap:wrap;\n",
              "      gap: 12px;\n",
              "    }\n",
              "\n",
              "    .colab-df-convert {\n",
              "      background-color: #E8F0FE;\n",
              "      border: none;\n",
              "      border-radius: 50%;\n",
              "      cursor: pointer;\n",
              "      display: none;\n",
              "      fill: #1967D2;\n",
              "      height: 32px;\n",
              "      padding: 0 0 0 0;\n",
              "      width: 32px;\n",
              "    }\n",
              "\n",
              "    .colab-df-convert:hover {\n",
              "      background-color: #E2EBFA;\n",
              "      box-shadow: 0px 1px 2px rgba(60, 64, 67, 0.3), 0px 1px 3px 1px rgba(60, 64, 67, 0.15);\n",
              "      fill: #174EA6;\n",
              "    }\n",
              "\n",
              "    [theme=dark] .colab-df-convert {\n",
              "      background-color: #3B4455;\n",
              "      fill: #D2E3FC;\n",
              "    }\n",
              "\n",
              "    [theme=dark] .colab-df-convert:hover {\n",
              "      background-color: #434B5C;\n",
              "      box-shadow: 0px 1px 3px 1px rgba(0, 0, 0, 0.15);\n",
              "      filter: drop-shadow(0px 1px 2px rgba(0, 0, 0, 0.3));\n",
              "      fill: #FFFFFF;\n",
              "    }\n",
              "  </style>\n",
              "\n",
              "      <script>\n",
              "        const buttonEl =\n",
              "          document.querySelector('#df-d73eec97-cb26-428f-9b72-e690d432c729 button.colab-df-convert');\n",
              "        buttonEl.style.display =\n",
              "          google.colab.kernel.accessAllowed ? 'block' : 'none';\n",
              "\n",
              "        async function convertToInteractive(key) {\n",
              "          const element = document.querySelector('#df-d73eec97-cb26-428f-9b72-e690d432c729');\n",
              "          const dataTable =\n",
              "            await google.colab.kernel.invokeFunction('convertToInteractive',\n",
              "                                                     [key], {});\n",
              "          if (!dataTable) return;\n",
              "\n",
              "          const docLinkHtml = 'Like what you see? Visit the ' +\n",
              "            '<a target=\"_blank\" href=https://colab.research.google.com/notebooks/data_table.ipynb>data table notebook</a>'\n",
              "            + ' to learn more about interactive tables.';\n",
              "          element.innerHTML = '';\n",
              "          dataTable['output_type'] = 'display_data';\n",
              "          await google.colab.output.renderOutput(dataTable, element);\n",
              "          const docLink = document.createElement('div');\n",
              "          docLink.innerHTML = docLinkHtml;\n",
              "          element.appendChild(docLink);\n",
              "        }\n",
              "      </script>\n",
              "    </div>\n",
              "  </div>\n",
              "  "
            ]
          },
          "metadata": {},
          "execution_count": 19
        }
      ]
    },
    {
      "cell_type": "code",
      "source": [
        "final_df.specific_conditions.unique()"
      ],
      "metadata": {
        "id": "COFatzczf7r_",
        "colab": {
          "base_uri": "https://localhost:8080/"
        },
        "outputId": "f2bae928-08cc-4177-a1e8-b163e0e35854"
      },
      "execution_count": null,
      "outputs": [
        {
          "output_type": "execute_result",
          "data": {
            "text/plain": [
              "array([None, 'photo', 'flow', 'electro'], dtype=object)"
            ]
          },
          "metadata": {},
          "execution_count": 20
        }
      ]
    },
    {
      "cell_type": "code",
      "source": [
        "def remove_list(x):\n",
        "  '''Converts list of smiles into a comma-separated string'''\n",
        "  if type(x)==list:\n",
        "    new_x = ', '.join(['unspecified' if type(i)!=str else str(i) for i in x])\n",
        "  else:\n",
        "    new_x = x\n",
        "  return new_x"
      ],
      "metadata": {
        "id": "Thlg4d6Lg5By"
      },
      "execution_count": null,
      "outputs": []
    },
    {
      "cell_type": "code",
      "source": [
        "# remove lists from columns with compounds\n",
        "col_names = [col for col in final_df.columns if 'inputs' in col or 'outcomes' in col]\n",
        "for col in col_names:\n",
        "  final_df[col] = final_df[col].apply(remove_list)"
      ],
      "metadata": {
        "id": "CqYFB7J2Dc3D"
      },
      "execution_count": null,
      "outputs": []
    },
    {
      "cell_type": "code",
      "source": [
        "# remove lists from yields column\n",
        "new_y_list = []\n",
        "for i in final_df.yields.tolist():\n",
        "  if i!=[None]:\n",
        "    i = [str(x) for x in i]\n",
        "    new_y_list.append(', '.join(i))\n",
        "  else:\n",
        "    new_y_list.append(None)\n",
        "final_df['yields'] = new_y_list"
      ],
      "metadata": {
        "id": "aM9hrsLbuDLD"
      },
      "execution_count": null,
      "outputs": []
    },
    {
      "cell_type": "code",
      "source": [
        "final_df.head()"
      ],
      "metadata": {
        "id": "orKeN41PvyVy",
        "colab": {
          "base_uri": "https://localhost:8080/",
          "height": 653
        },
        "outputId": "2f2d9c98-3953-4a77-b125-8b0f403f4dc3"
      },
      "execution_count": null,
      "outputs": [
        {
          "output_type": "execute_result",
          "data": {
            "text/plain": [
              "                                     dataset_id  \\\n",
              "0  ord_dataset-00005539a1e04c809a9a78647bea649c   \n",
              "1  ord_dataset-00005539a1e04c809a9a78647bea649c   \n",
              "2  ord_dataset-00005539a1e04c809a9a78647bea649c   \n",
              "3  ord_dataset-00005539a1e04c809a9a78647bea649c   \n",
              "4  ord_dataset-00005539a1e04c809a9a78647bea649c   \n",
              "\n",
              "                            reaction_id  \\\n",
              "0  ord-56b1f4bfeebc4b8ab990b9804e798aa7   \n",
              "1  ord-1169cbe9fa064a879ac34b2e524a4e69   \n",
              "2  ord-13992005c22d4673aa802b5e140076e8   \n",
              "3  ord-a36b48917c9942d1a34637511773ee1f   \n",
              "4  ord-5fc624fd97b7430eafbe8dcc049d170b   \n",
              "\n",
              "                                       reaction_type reaction_smiles  \\\n",
              "0  1.3.1 [N-arylation with Ar-X] Bromo Buchwald-H...            None   \n",
              "1  1.3.4 [N-arylation with Ar-X] Iodo Buchwald-Ha...            None   \n",
              "2  1.3.4 [N-arylation with Ar-X] Iodo Buchwald-Ha...            None   \n",
              "3  1.3.4 [N-arylation with Ar-X] Iodo Buchwald-Ha...            None   \n",
              "4                      0.0 [Unassigned] Unrecognized            None   \n",
              "\n",
              "                                     inputs_REACTANT  \\\n",
              "0  CC(C)N1CCNCC1, CCOC1=C(C=C2C(=C1)N=CC(=C2NC3=C...   \n",
              "1    C1=CC=C(C=C1)I, CN1C=NC2=C1C=C(C(=C2F)N)C(=O)OC   \n",
              "2    C1=CC=C(C=C1)I, CN1C=NC2=C1C=C(C(=C2F)N)C(=O)OC   \n",
              "3    C1=CC=C(C=C1)I, CN1C=NC2=C1C=C(C(=C2F)N)C(=O)OC   \n",
              "4  CC1=NC(=C(C=C1)OC2=CC(=NC=C2)Cl)C, C1=CC(=CC=C...   \n",
              "\n",
              "                inputs_REAGENT inputs_SOLVENT  \\\n",
              "0  C(=O)([O-])[O-].[Cs+].[Cs+]                  \n",
              "1  C(=O)([O-])[O-].[Cs+].[Cs+]  COC1=CC=CC=C1   \n",
              "2  C(=O)([O-])[O-].[Cs+].[Cs+]  COC1=CC=CC=C1   \n",
              "3  C(=O)([O-])[O-].[Cs+].[Cs+]  COC1=CC=CC=C1   \n",
              "4  C(=O)([O-])[O-].[Cs+].[Cs+]    CC(=O)N(C)C   \n",
              "\n",
              "                                     inputs_CATALYST inputs_INTERNAL  \\\n",
              "0  C1=CC=C(C=C1)P(C2=CC=CC=C2)C3=C(C4=CC=CC=C4C=C...             NaN   \n",
              "1  CC1(C2=C(C(=CC=C2)P(C3=CC=CC=C3)C4=CC=CC=C4)OC...             NaN   \n",
              "2  CC1(C2=C(C(=CC=C2)P(C3=CC=CC=C3)C4=CC=CC=C4)OC...             NaN   \n",
              "3  CC1(C2=C(C(=CC=C2)P(C3=CC=CC=C3)C4=CC=CC=C4)OC...             NaN   \n",
              "4  CC1(C2=C(C(=CC=C2)P(C3=CC=CC=C3)C4=CC=CC=C4)OC...             NaN   \n",
              "\n",
              "  inputs_UNSPECIFIED  ... outcomes_UNSPECIFIED temperature_value  \\\n",
              "0                NaN  ...                  NaN             110.0   \n",
              "1                NaN  ...                  NaN             100.0   \n",
              "2                NaN  ...                  NaN             100.0   \n",
              "3                NaN  ...                  NaN             100.0   \n",
              "4                NaN  ...                  NaN             150.0   \n",
              "\n",
              "  temperature_units temperature_control_type pressure_value  pressure_units  \\\n",
              "0                 1                        0            1.0               2   \n",
              "1                 1                        0            1.0               2   \n",
              "2                 1                        0            1.0               2   \n",
              "3                 1                        0            1.0               2   \n",
              "4                 1                        0            1.0               2   \n",
              "\n",
              "   pressure_control_type  atmosphere  specific_conditions              yields  \n",
              "0                      0           0                 None   65.38999938964844  \n",
              "1                      0           0                 None  57.470001220703125  \n",
              "2                      0           0                 None   65.43000030517578  \n",
              "3                      0           0                 None   75.06999969482422  \n",
              "4                      0           0                 None   46.31999969482422  \n",
              "\n",
              "[5 rows x 24 columns]"
            ],
            "text/html": [
              "\n",
              "  <div id=\"df-75816a47-779e-4932-b4fc-52abefce30a0\">\n",
              "    <div class=\"colab-df-container\">\n",
              "      <div>\n",
              "<style scoped>\n",
              "    .dataframe tbody tr th:only-of-type {\n",
              "        vertical-align: middle;\n",
              "    }\n",
              "\n",
              "    .dataframe tbody tr th {\n",
              "        vertical-align: top;\n",
              "    }\n",
              "\n",
              "    .dataframe thead th {\n",
              "        text-align: right;\n",
              "    }\n",
              "</style>\n",
              "<table border=\"1\" class=\"dataframe\">\n",
              "  <thead>\n",
              "    <tr style=\"text-align: right;\">\n",
              "      <th></th>\n",
              "      <th>dataset_id</th>\n",
              "      <th>reaction_id</th>\n",
              "      <th>reaction_type</th>\n",
              "      <th>reaction_smiles</th>\n",
              "      <th>inputs_REACTANT</th>\n",
              "      <th>inputs_REAGENT</th>\n",
              "      <th>inputs_SOLVENT</th>\n",
              "      <th>inputs_CATALYST</th>\n",
              "      <th>inputs_INTERNAL</th>\n",
              "      <th>inputs_UNSPECIFIED</th>\n",
              "      <th>...</th>\n",
              "      <th>outcomes_UNSPECIFIED</th>\n",
              "      <th>temperature_value</th>\n",
              "      <th>temperature_units</th>\n",
              "      <th>temperature_control_type</th>\n",
              "      <th>pressure_value</th>\n",
              "      <th>pressure_units</th>\n",
              "      <th>pressure_control_type</th>\n",
              "      <th>atmosphere</th>\n",
              "      <th>specific_conditions</th>\n",
              "      <th>yields</th>\n",
              "    </tr>\n",
              "  </thead>\n",
              "  <tbody>\n",
              "    <tr>\n",
              "      <th>0</th>\n",
              "      <td>ord_dataset-00005539a1e04c809a9a78647bea649c</td>\n",
              "      <td>ord-56b1f4bfeebc4b8ab990b9804e798aa7</td>\n",
              "      <td>1.3.1 [N-arylation with Ar-X] Bromo Buchwald-H...</td>\n",
              "      <td>None</td>\n",
              "      <td>CC(C)N1CCNCC1, CCOC1=C(C=C2C(=C1)N=CC(=C2NC3=C...</td>\n",
              "      <td>C(=O)([O-])[O-].[Cs+].[Cs+]</td>\n",
              "      <td></td>\n",
              "      <td>C1=CC=C(C=C1)P(C2=CC=CC=C2)C3=C(C4=CC=CC=C4C=C...</td>\n",
              "      <td>NaN</td>\n",
              "      <td>NaN</td>\n",
              "      <td>...</td>\n",
              "      <td>NaN</td>\n",
              "      <td>110.0</td>\n",
              "      <td>1</td>\n",
              "      <td>0</td>\n",
              "      <td>1.0</td>\n",
              "      <td>2</td>\n",
              "      <td>0</td>\n",
              "      <td>0</td>\n",
              "      <td>None</td>\n",
              "      <td>65.38999938964844</td>\n",
              "    </tr>\n",
              "    <tr>\n",
              "      <th>1</th>\n",
              "      <td>ord_dataset-00005539a1e04c809a9a78647bea649c</td>\n",
              "      <td>ord-1169cbe9fa064a879ac34b2e524a4e69</td>\n",
              "      <td>1.3.4 [N-arylation with Ar-X] Iodo Buchwald-Ha...</td>\n",
              "      <td>None</td>\n",
              "      <td>C1=CC=C(C=C1)I, CN1C=NC2=C1C=C(C(=C2F)N)C(=O)OC</td>\n",
              "      <td>C(=O)([O-])[O-].[Cs+].[Cs+]</td>\n",
              "      <td>COC1=CC=CC=C1</td>\n",
              "      <td>CC1(C2=C(C(=CC=C2)P(C3=CC=CC=C3)C4=CC=CC=C4)OC...</td>\n",
              "      <td>NaN</td>\n",
              "      <td>NaN</td>\n",
              "      <td>...</td>\n",
              "      <td>NaN</td>\n",
              "      <td>100.0</td>\n",
              "      <td>1</td>\n",
              "      <td>0</td>\n",
              "      <td>1.0</td>\n",
              "      <td>2</td>\n",
              "      <td>0</td>\n",
              "      <td>0</td>\n",
              "      <td>None</td>\n",
              "      <td>57.470001220703125</td>\n",
              "    </tr>\n",
              "    <tr>\n",
              "      <th>2</th>\n",
              "      <td>ord_dataset-00005539a1e04c809a9a78647bea649c</td>\n",
              "      <td>ord-13992005c22d4673aa802b5e140076e8</td>\n",
              "      <td>1.3.4 [N-arylation with Ar-X] Iodo Buchwald-Ha...</td>\n",
              "      <td>None</td>\n",
              "      <td>C1=CC=C(C=C1)I, CN1C=NC2=C1C=C(C(=C2F)N)C(=O)OC</td>\n",
              "      <td>C(=O)([O-])[O-].[Cs+].[Cs+]</td>\n",
              "      <td>COC1=CC=CC=C1</td>\n",
              "      <td>CC1(C2=C(C(=CC=C2)P(C3=CC=CC=C3)C4=CC=CC=C4)OC...</td>\n",
              "      <td>NaN</td>\n",
              "      <td>NaN</td>\n",
              "      <td>...</td>\n",
              "      <td>NaN</td>\n",
              "      <td>100.0</td>\n",
              "      <td>1</td>\n",
              "      <td>0</td>\n",
              "      <td>1.0</td>\n",
              "      <td>2</td>\n",
              "      <td>0</td>\n",
              "      <td>0</td>\n",
              "      <td>None</td>\n",
              "      <td>65.43000030517578</td>\n",
              "    </tr>\n",
              "    <tr>\n",
              "      <th>3</th>\n",
              "      <td>ord_dataset-00005539a1e04c809a9a78647bea649c</td>\n",
              "      <td>ord-a36b48917c9942d1a34637511773ee1f</td>\n",
              "      <td>1.3.4 [N-arylation with Ar-X] Iodo Buchwald-Ha...</td>\n",
              "      <td>None</td>\n",
              "      <td>C1=CC=C(C=C1)I, CN1C=NC2=C1C=C(C(=C2F)N)C(=O)OC</td>\n",
              "      <td>C(=O)([O-])[O-].[Cs+].[Cs+]</td>\n",
              "      <td>COC1=CC=CC=C1</td>\n",
              "      <td>CC1(C2=C(C(=CC=C2)P(C3=CC=CC=C3)C4=CC=CC=C4)OC...</td>\n",
              "      <td>NaN</td>\n",
              "      <td>NaN</td>\n",
              "      <td>...</td>\n",
              "      <td>NaN</td>\n",
              "      <td>100.0</td>\n",
              "      <td>1</td>\n",
              "      <td>0</td>\n",
              "      <td>1.0</td>\n",
              "      <td>2</td>\n",
              "      <td>0</td>\n",
              "      <td>0</td>\n",
              "      <td>None</td>\n",
              "      <td>75.06999969482422</td>\n",
              "    </tr>\n",
              "    <tr>\n",
              "      <th>4</th>\n",
              "      <td>ord_dataset-00005539a1e04c809a9a78647bea649c</td>\n",
              "      <td>ord-5fc624fd97b7430eafbe8dcc049d170b</td>\n",
              "      <td>0.0 [Unassigned] Unrecognized</td>\n",
              "      <td>None</td>\n",
              "      <td>CC1=NC(=C(C=C1)OC2=CC(=NC=C2)Cl)C, C1=CC(=CC=C...</td>\n",
              "      <td>C(=O)([O-])[O-].[Cs+].[Cs+]</td>\n",
              "      <td>CC(=O)N(C)C</td>\n",
              "      <td>CC1(C2=C(C(=CC=C2)P(C3=CC=CC=C3)C4=CC=CC=C4)OC...</td>\n",
              "      <td>NaN</td>\n",
              "      <td>NaN</td>\n",
              "      <td>...</td>\n",
              "      <td>NaN</td>\n",
              "      <td>150.0</td>\n",
              "      <td>1</td>\n",
              "      <td>0</td>\n",
              "      <td>1.0</td>\n",
              "      <td>2</td>\n",
              "      <td>0</td>\n",
              "      <td>0</td>\n",
              "      <td>None</td>\n",
              "      <td>46.31999969482422</td>\n",
              "    </tr>\n",
              "  </tbody>\n",
              "</table>\n",
              "<p>5 rows × 24 columns</p>\n",
              "</div>\n",
              "      <button class=\"colab-df-convert\" onclick=\"convertToInteractive('df-75816a47-779e-4932-b4fc-52abefce30a0')\"\n",
              "              title=\"Convert this dataframe to an interactive table.\"\n",
              "              style=\"display:none;\">\n",
              "        \n",
              "  <svg xmlns=\"http://www.w3.org/2000/svg\" height=\"24px\"viewBox=\"0 0 24 24\"\n",
              "       width=\"24px\">\n",
              "    <path d=\"M0 0h24v24H0V0z\" fill=\"none\"/>\n",
              "    <path d=\"M18.56 5.44l.94 2.06.94-2.06 2.06-.94-2.06-.94-.94-2.06-.94 2.06-2.06.94zm-11 1L8.5 8.5l.94-2.06 2.06-.94-2.06-.94L8.5 2.5l-.94 2.06-2.06.94zm10 10l.94 2.06.94-2.06 2.06-.94-2.06-.94-.94-2.06-.94 2.06-2.06.94z\"/><path d=\"M17.41 7.96l-1.37-1.37c-.4-.4-.92-.59-1.43-.59-.52 0-1.04.2-1.43.59L10.3 9.45l-7.72 7.72c-.78.78-.78 2.05 0 2.83L4 21.41c.39.39.9.59 1.41.59.51 0 1.02-.2 1.41-.59l7.78-7.78 2.81-2.81c.8-.78.8-2.07 0-2.86zM5.41 20L4 18.59l7.72-7.72 1.47 1.35L5.41 20z\"/>\n",
              "  </svg>\n",
              "      </button>\n",
              "      \n",
              "  <style>\n",
              "    .colab-df-container {\n",
              "      display:flex;\n",
              "      flex-wrap:wrap;\n",
              "      gap: 12px;\n",
              "    }\n",
              "\n",
              "    .colab-df-convert {\n",
              "      background-color: #E8F0FE;\n",
              "      border: none;\n",
              "      border-radius: 50%;\n",
              "      cursor: pointer;\n",
              "      display: none;\n",
              "      fill: #1967D2;\n",
              "      height: 32px;\n",
              "      padding: 0 0 0 0;\n",
              "      width: 32px;\n",
              "    }\n",
              "\n",
              "    .colab-df-convert:hover {\n",
              "      background-color: #E2EBFA;\n",
              "      box-shadow: 0px 1px 2px rgba(60, 64, 67, 0.3), 0px 1px 3px 1px rgba(60, 64, 67, 0.15);\n",
              "      fill: #174EA6;\n",
              "    }\n",
              "\n",
              "    [theme=dark] .colab-df-convert {\n",
              "      background-color: #3B4455;\n",
              "      fill: #D2E3FC;\n",
              "    }\n",
              "\n",
              "    [theme=dark] .colab-df-convert:hover {\n",
              "      background-color: #434B5C;\n",
              "      box-shadow: 0px 1px 3px 1px rgba(0, 0, 0, 0.15);\n",
              "      filter: drop-shadow(0px 1px 2px rgba(0, 0, 0, 0.3));\n",
              "      fill: #FFFFFF;\n",
              "    }\n",
              "  </style>\n",
              "\n",
              "      <script>\n",
              "        const buttonEl =\n",
              "          document.querySelector('#df-75816a47-779e-4932-b4fc-52abefce30a0 button.colab-df-convert');\n",
              "        buttonEl.style.display =\n",
              "          google.colab.kernel.accessAllowed ? 'block' : 'none';\n",
              "\n",
              "        async function convertToInteractive(key) {\n",
              "          const element = document.querySelector('#df-75816a47-779e-4932-b4fc-52abefce30a0');\n",
              "          const dataTable =\n",
              "            await google.colab.kernel.invokeFunction('convertToInteractive',\n",
              "                                                     [key], {});\n",
              "          if (!dataTable) return;\n",
              "\n",
              "          const docLinkHtml = 'Like what you see? Visit the ' +\n",
              "            '<a target=\"_blank\" href=https://colab.research.google.com/notebooks/data_table.ipynb>data table notebook</a>'\n",
              "            + ' to learn more about interactive tables.';\n",
              "          element.innerHTML = '';\n",
              "          dataTable['output_type'] = 'display_data';\n",
              "          await google.colab.output.renderOutput(dataTable, element);\n",
              "          const docLink = document.createElement('div');\n",
              "          docLink.innerHTML = docLinkHtml;\n",
              "          element.appendChild(docLink);\n",
              "        }\n",
              "      </script>\n",
              "    </div>\n",
              "  </div>\n",
              "  "
            ]
          },
          "metadata": {},
          "execution_count": 24
        },
        {
          "output_type": "stream",
          "name": "stdout",
          "text": [
            "Warning: Total number of columns (24) exceeds max_columns (20) limiting to first (20) columns.\n",
            "Warning: Total number of columns (24) exceeds max_columns (20) limiting to first (20) columns.\n"
          ]
        }
      ]
    },
    {
      "cell_type": "code",
      "source": [
        "final_df.to_csv('ord.tsv', sep='\\t')\n",
        "!cp ord.tsv 'drive/My Drive/'"
      ],
      "metadata": {
        "id": "Ql_7MR9FX59P"
      },
      "execution_count": null,
      "outputs": []
    }
  ]
}