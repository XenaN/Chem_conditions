{
  "nbformat": 4,
  "nbformat_minor": 0,
  "metadata": {
    "colab": {
      "provenance": []
    },
    "kernelspec": {
      "name": "python3",
      "display_name": "Python 3"
    },
    "language_info": {
      "name": "python"
    }
  },
  "cells": [
    {
      "cell_type": "code",
      "execution_count": null,
      "metadata": {
        "id": "4xOW1tqsqtHC"
      },
      "outputs": [],
      "source": [
        "#перевод CAS в SMILES с помощью библиотеки CIRpy\n",
        "\n",
        "import pandas as pd\n",
        "import cirpy\n",
        "\n",
        "def cas_to_smiles(dataset_name):\n",
        "  df = pd.read_csv(dataset_name)\n",
        "  for idx in df.index:\n",
        "    cas = df.loc[idx,'query']\n",
        "    smiles = cirpy.resolve(cas,'smiles')\n",
        "    df.loc[idx,'result'] = smiles \n",
        "    df.to_csv(f'{dataset_name}_smiles.csv')"
      ]
    },
    {
      "cell_type": "code",
      "source": [
        "#распределение выходов\n",
        "\n",
        "from matplotlib import pyplot as plt\n",
        "from matplotlib import colors\n",
        "\n",
        "def yield_hist(df, bins):\n",
        "  yields = df['yield_value']\n",
        "  fig, axs = plt.subplots()\n",
        "  N, bins, patches = axs.hist(yields, bins=bins)\n",
        "\n",
        "  fracs = ((N**(1 / 2)) / N.max())\n",
        "  norm = colors.Normalize(fracs.min(), fracs.max())\n",
        " \n",
        "  for thisfrac, thispatch in zip(fracs, patches):\n",
        "    color = plt.cm.viridis(norm(thisfrac))\n",
        "    thispatch.set_facecolor(color)\n",
        "\n",
        "  plt.xlabel(\"Выход, %\")\n",
        "  plt.ylabel(\"Частота, %\")\n",
        "  plt.title('Гистограмма распределения выходов реакций')\n",
        "\n",
        "  plt.show()"
      ],
      "metadata": {
        "id": "JI32WyoDtRnH"
      },
      "execution_count": null,
      "outputs": []
    }
  ]
}