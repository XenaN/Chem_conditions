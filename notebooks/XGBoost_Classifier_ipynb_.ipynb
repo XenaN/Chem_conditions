{
 "cells": [
  {
   "cell_type": "code",
   "execution_count": null,
   "metadata": {
    "colab": {
     "base_uri": "https://localhost:8080/"
    },
    "id": "7nJC5kVG_j9K",
    "outputId": "fe41bb29-ac02-4c02-e5b6-86d8fc7f1b6e"
   },
   "outputs": [
    {
     "name": "stdout",
     "output_type": "stream",
     "text": [
      "Looking in indexes: https://pypi.org/simple, https://us-python.pkg.dev/colab-wheels/public/simple/\n",
      "Collecting rdkit\n",
      "  Downloading rdkit-2022.9.5-cp39-cp39-manylinux_2_17_x86_64.manylinux2014_x86_64.whl (29.4 MB)\n",
      "\u001b[2K     \u001b[90m━━━━━━━━━━━━━━━━━━━━━━━━━━━━━━━━━━━━━━━━\u001b[0m \u001b[32m29.4/29.4 MB\u001b[0m \u001b[31m49.1 MB/s\u001b[0m eta \u001b[36m0:00:00\u001b[0m\n",
      "\u001b[?25hRequirement already satisfied: numpy in /usr/local/lib/python3.9/dist-packages (from rdkit) (1.22.4)\n",
      "Requirement already satisfied: Pillow in /usr/local/lib/python3.9/dist-packages (from rdkit) (8.4.0)\n",
      "Installing collected packages: rdkit\n",
      "Successfully installed rdkit-2022.9.5\n"
     ]
    }
   ],
   "source": [
    "%pip install rdkit"
   ]
  },
  {
   "cell_type": "code",
   "execution_count": 2,
   "metadata": {
    "id": "xDeczcMS-6O2"
   },
   "outputs": [
    {
     "name": "stderr",
     "output_type": "stream",
     "text": [
      "D:\\Chem_conditions\\venv\\lib\\site-packages\\tqdm\\auto.py:22: TqdmWarning: IProgress not found. Please update jupyter and ipywidgets. See https://ipywidgets.readthedocs.io/en/stable/user_install.html\n",
      "  from .autonotebook import tqdm as notebook_tqdm\n"
     ]
    }
   ],
   "source": [
    "import numpy as np\n",
    "\n",
    "import pandas as pd\n",
    "\n",
    "import matplotlib.pyplot as plt\n",
    "import matplotlib.lines as mlines\n",
    "\n",
    "import seaborn as sns\n",
    "\n",
    "import xgboost as xgb\n",
    "import optuna\n",
    "\n",
    "from sklearn.model_selection import train_test_split\n",
    "from sklearn.model_selection import RandomizedSearchCV\n",
    "from sklearn.metrics import confusion_matrix\n",
    "from sklearn.metrics import ConfusionMatrixDisplay\n",
    "from sklearn.metrics import accuracy_score\n",
    "from sklearn.metrics import precision_score\n",
    "from sklearn.metrics import recall_score\n",
    "from sklearn.metrics import f1_score\n",
    "\n",
    "from rdkit import RDLogger\n",
    "RDLogger.DisableLog('rdApp.*') # supress rdkit warnings\n",
    "from rdkit import Chem\n",
    "from rdkit.Chem import AllChem\n",
    "from rdkit.DataStructs.cDataStructs import ConvertToNumpyArray"
   ]
  },
  {
   "cell_type": "code",
   "execution_count": 8,
   "metadata": {
    "colab": {
     "base_uri": "https://localhost:8080/"
    },
    "id": "BFzxCQIT_GaN",
    "outputId": "2f06a6c6-f9aa-4c21-f4e5-1b8b61dafaa0"
   },
   "outputs": [
    {
     "name": "stderr",
     "output_type": "stream",
     "text": [
      "C:\\Users\\nikit\\AppData\\Local\\Temp\\ipykernel_23148\\3850553142.py:2: DtypeWarning: Columns (5,6,10,11,12,24,31,34,37,38,39,40,41,42) have mixed types. Specify dtype option on import or set low_memory=False.\n",
      "  df = pd.read_csv('../data/interim/dataset_smiles_descriptors.tsv', sep=\"\\t\")\n"
     ]
    }
   ],
   "source": [
    "# df = pd.read_csv('/content/drive/MyDrive/AI-based planning of organic synthesis [data]/reactions_datasets/dataset_smiles_descriptors.tsv', sep=\"\\t\")\n",
    "df = pd.read_csv('../data/interim/dataset_smiles_descriptors.tsv', sep=\"\\t\")"
   ]
  },
  {
   "cell_type": "code",
   "execution_count": 9,
   "metadata": {
    "id": "KLA1zRLu_wr6"
   },
   "outputs": [],
   "source": [
    "def get_fingerprint(x, nBits):\n",
    "    fp_array = np.zeros((0,), dtype=np.int8)\n",
    "    if x is not None and type(x) != float:\n",
    "        mol = Chem.MolFromSmiles(x)\n",
    "        fp = AllChem.GetMorganFingerprintAsBitVect(mol, 2, nBits=nBits) \n",
    "        ConvertToNumpyArray(fp, fp_array)\n",
    "        return fp_array\n",
    "    else:\n",
    "        return np.zeros((nBits,), dtype=np.int8)"
   ]
  },
  {
   "cell_type": "code",
   "execution_count": 10,
   "metadata": {
    "id": "maU6CiTOhU09"
   },
   "outputs": [],
   "source": [
    "def get_yield_class(y):\n",
    "  if y <= 33:\n",
    "    c = 0 #low\n",
    "  elif y >= 34 and y <= 66:\n",
    "    c = 1 #medium\n",
    "  elif y >= 67:\n",
    "    c = 2 #high\n",
    "  return c"
   ]
  },
  {
   "cell_type": "code",
   "execution_count": 11,
   "metadata": {
    "id": "WLajsIUm_2fy"
   },
   "outputs": [],
   "source": [
    "df_new = pd.DataFrame()"
   ]
  },
  {
   "cell_type": "code",
   "execution_count": 12,
   "metadata": {
    "id": "YDoHxO6shXWp"
   },
   "outputs": [],
   "source": [
    "df_new['yield_value'] = df['yield_value'].apply(get_yield_class).to_frame().set_index(df.index)"
   ]
  },
  {
   "cell_type": "code",
   "execution_count": 13,
   "metadata": {
    "id": "Twn3LJil_4oG"
   },
   "outputs": [],
   "source": [
    "df_new['product'] = df['products_smiles'].apply(get_fingerprint, nBits=512).to_frame().set_index(df.index)"
   ]
  },
  {
   "cell_type": "code",
   "execution_count": 14,
   "metadata": {
    "id": "nmdeCwbm_6Sz"
   },
   "outputs": [],
   "source": [
    "df_new['reactants_I'] = df['reactants_smiles'].apply(get_fingerprint, nBits=128).to_frame().set_index(df.index)"
   ]
  },
  {
   "cell_type": "code",
   "execution_count": 15,
   "metadata": {
    "id": "Ew1GKl2aATbt"
   },
   "outputs": [],
   "source": [
    "df_new['reactants_II'] = df['reactants_II_smiles'].apply(get_fingerprint, nBits=128).to_frame().set_index(df.index)"
   ]
  },
  {
   "cell_type": "code",
   "execution_count": 16,
   "metadata": {
    "id": "ZDK-4yqkAY5I"
   },
   "outputs": [],
   "source": [
    "df_new['reaction'] = df_new[['reactants_I', 'reactants_II', 'product']].apply(np.concatenate, axis=1)\n",
    "reactions_fp = pd.DataFrame(df_new.loc[:, 'reaction'].values.tolist())"
   ]
  },
  {
   "cell_type": "code",
   "execution_count": 17,
   "metadata": {
    "id": "YGTxLSjqAbkx"
   },
   "outputs": [],
   "source": [
    "X_train_3, X_test_3, y_train_3, y_test_3 = train_test_split(reactions_fp, df_new['yield_value'], test_size=0.25, random_state=42, shuffle=True)"
   ]
  },
  {
   "cell_type": "code",
   "execution_count": 20,
   "metadata": {},
   "outputs": [],
   "source": [
    "X_train, X_val, y_train, y_val = train_test_split(X_train_3, y_train_3, test_size=0.25, random_state=42, shuffle=True)"
   ]
  },
  {
   "cell_type": "code",
   "execution_count": 23,
   "metadata": {},
   "outputs": [],
   "source": [
    "def objective(trial):\n",
    "    \"\"\"Define the objective function\"\"\"\n",
    "\n",
    "    param = {\n",
    "        'max_depth': trial.suggest_int('max_depth', 1, 10),\n",
    "        'learning_rate': trial.suggest_float('learning_rate', 0.01, 1.0),\n",
    "        'n_estimators': trial.suggest_int('n_estimators', 50, 1000),\n",
    "        'min_child_weight': trial.suggest_int('min_child_weight', 1, 10),\n",
    "        'gamma': trial.suggest_float('gamma', 0.01, 1.0),\n",
    "        'subsample': trial.suggest_float('subsample', 0.01, 1.0),\n",
    "        'colsample_bytree': trial.suggest_float('colsample_bytree', 0.01, 1.0),\n",
    "        'reg_alpha': trial.suggest_float('reg_alpha', 0.01, 1.0),\n",
    "        'reg_lambda': trial.suggest_float('reg_lambda', 0.01, 1.0),\n",
    "        'random_state': trial.suggest_int('random_state', 1, 1000)\n",
    "    }\n",
    "\n",
    "    # Fit the model\n",
    "    optuna_model = xgb.XGBClassifier(**param)\n",
    "    optuna_model.fit(X_train, y_train)\n",
    "\n",
    "    # Make predictions\n",
    "    y_pred = optuna_model.predict(X_val)\n",
    "\n",
    "    # Evaluate predictions\n",
    "    return f1_score(y_val, y_pred, average='weighted')"
   ]
  },
  {
   "cell_type": "code",
   "execution_count": 25,
   "metadata": {},
   "outputs": [
    {
     "name": "stderr",
     "output_type": "stream",
     "text": [
      "\u001b[32m[I 2023-04-04 13:53:03,948]\u001b[0m A new study created in memory with name: classification\u001b[0m\n",
      "\u001b[32m[I 2023-04-04 13:55:35,217]\u001b[0m Trial 0 finished with value: 0.6855254711065164 and parameters: {'max_depth': 8, 'learning_rate': 0.1252060985936404, 'n_estimators': 263, 'min_child_weight': 10, 'gamma': 0.2332778145845138, 'subsample': 0.8593097182608037, 'colsample_bytree': 0.6916310065584576, 'reg_alpha': 0.4999304315150876, 'reg_lambda': 0.35333262821854994, 'random_state': 819}. Best is trial 0 with value: 0.6855254711065164.\u001b[0m\n",
      "\u001b[32m[I 2023-04-04 13:55:52,395]\u001b[0m Trial 1 finished with value: 0.6385853934863005 and parameters: {'max_depth': 1, 'learning_rate': 0.8440956249293357, 'n_estimators': 246, 'min_child_weight': 6, 'gamma': 0.15814862509847807, 'subsample': 0.7810039095186193, 'colsample_bytree': 0.2007057263766329, 'reg_alpha': 0.3438208114583717, 'reg_lambda': 0.9337303677125092, 'random_state': 961}. Best is trial 0 with value: 0.6855254711065164.\u001b[0m\n",
      "\u001b[32m[I 2023-04-04 13:58:04,627]\u001b[0m Trial 2 finished with value: 0.626427246373605 and parameters: {'max_depth': 4, 'learning_rate': 0.7226483442622973, 'n_estimators': 925, 'min_child_weight': 4, 'gamma': 0.1375500268840981, 'subsample': 0.03800892157522028, 'colsample_bytree': 0.5250605889746461, 'reg_alpha': 0.9796652547478013, 'reg_lambda': 0.45339508842506443, 'random_state': 392}. Best is trial 0 with value: 0.6855254711065164.\u001b[0m\n",
      "\u001b[32m[I 2023-04-04 13:58:21,664]\u001b[0m Trial 3 finished with value: 0.6582465322698728 and parameters: {'max_depth': 3, 'learning_rate': 0.5943029746853852, 'n_estimators': 148, 'min_child_weight': 4, 'gamma': 0.698363189762646, 'subsample': 0.11161437189266042, 'colsample_bytree': 0.3743284723681805, 'reg_alpha': 0.41882114500310164, 'reg_lambda': 0.15832445803000686, 'random_state': 473}. Best is trial 0 with value: 0.6855254711065164.\u001b[0m\n",
      "\u001b[32m[I 2023-04-04 13:59:57,235]\u001b[0m Trial 4 finished with value: 0.6747894462707388 and parameters: {'max_depth': 3, 'learning_rate': 0.3425676974837059, 'n_estimators': 663, 'min_child_weight': 10, 'gamma': 0.09695269071411118, 'subsample': 0.8431025112281332, 'colsample_bytree': 0.3442321277944682, 'reg_alpha': 0.10154796865663564, 'reg_lambda': 0.3981907414433684, 'random_state': 962}. Best is trial 0 with value: 0.6855254711065164.\u001b[0m\n",
      "\u001b[32m[I 2023-04-04 14:03:37,608]\u001b[0m Trial 5 finished with value: 0.681634181373991 and parameters: {'max_depth': 3, 'learning_rate': 0.5662421120354505, 'n_estimators': 688, 'min_child_weight': 8, 'gamma': 0.31177562301756934, 'subsample': 0.39272239142485105, 'colsample_bytree': 0.9338358006641684, 'reg_alpha': 0.30622833602328886, 'reg_lambda': 0.8251683389300593, 'random_state': 425}. Best is trial 0 with value: 0.6855254711065164.\u001b[0m\n",
      "\u001b[32m[I 2023-04-04 14:04:57,652]\u001b[0m Trial 6 finished with value: 0.6968736455910834 and parameters: {'max_depth': 6, 'learning_rate': 0.7174568046029209, 'n_estimators': 144, 'min_child_weight': 4, 'gamma': 0.2339810144341605, 'subsample': 0.7260352251107144, 'colsample_bytree': 0.8032753094278459, 'reg_alpha': 0.5791802931855737, 'reg_lambda': 0.5474299877846315, 'random_state': 726}. Best is trial 6 with value: 0.6968736455910834.\u001b[0m\n",
      "\u001b[32m[I 2023-04-04 14:05:34,301]\u001b[0m Trial 7 finished with value: 0.6515730558566686 and parameters: {'max_depth': 4, 'learning_rate': 0.14074082272917737, 'n_estimators': 215, 'min_child_weight': 1, 'gamma': 0.6736352334733465, 'subsample': 0.17084927333465286, 'colsample_bytree': 0.3932819457371193, 'reg_alpha': 0.07299776863432159, 'reg_lambda': 0.8000022923761183, 'random_state': 21}. Best is trial 6 with value: 0.6968736455910834.\u001b[0m\n",
      "\u001b[32m[I 2023-04-04 14:07:06,279]\u001b[0m Trial 8 finished with value: 0.7030442798706416 and parameters: {'max_depth': 5, 'learning_rate': 0.6330168987964877, 'n_estimators': 851, 'min_child_weight': 3, 'gamma': 0.3416695473150585, 'subsample': 0.8587535664380015, 'colsample_bytree': 0.08523976625900868, 'reg_alpha': 0.2840510163794314, 'reg_lambda': 0.028698152217228302, 'random_state': 971}. Best is trial 8 with value: 0.7030442798706416.\u001b[0m\n",
      "\u001b[32m[I 2023-04-04 14:12:49,297]\u001b[0m Trial 9 finished with value: 0.7041866234771224 and parameters: {'max_depth': 8, 'learning_rate': 0.10563725266772846, 'n_estimators': 900, 'min_child_weight': 5, 'gamma': 0.8015395689392507, 'subsample': 0.953231999454505, 'colsample_bytree': 0.4144130551658428, 'reg_alpha': 0.3707104581880579, 'reg_lambda': 0.8911544988923076, 'random_state': 879}. Best is trial 9 with value: 0.7041866234771224.\u001b[0m\n",
      "\u001b[32m[I 2023-04-04 14:13:36,662]\u001b[0m Trial 10 finished with value: 0.6360903519021628 and parameters: {'max_depth': 10, 'learning_rate': 0.02913880011636888, 'n_estimators': 449, 'min_child_weight': 7, 'gamma': 0.9747105195319982, 'subsample': 0.9574621934119986, 'colsample_bytree': 0.019656546931220487, 'reg_alpha': 0.7156647094968949, 'reg_lambda': 0.9949511875899619, 'random_state': 662}. Best is trial 9 with value: 0.7041866234771224.\u001b[0m\n",
      "\u001b[32m[I 2023-04-04 14:15:19,010]\u001b[0m Trial 11 finished with value: 0.7046689557740188 and parameters: {'max_depth': 7, 'learning_rate': 0.3721576578404586, 'n_estimators': 1000, 'min_child_weight': 1, 'gamma': 0.47489935647948534, 'subsample': 0.9874137587617786, 'colsample_bytree': 0.034487653292757305, 'reg_alpha': 0.23271286110412406, 'reg_lambda': 0.027991251374509196, 'random_state': 996}. Best is trial 11 with value: 0.7046689557740188.\u001b[0m\n",
      "\u001b[32m[I 2023-04-04 14:19:46,191]\u001b[0m Trial 12 finished with value: 0.7046797878595689 and parameters: {'max_depth': 8, 'learning_rate': 0.3628924008869721, 'n_estimators': 972, 'min_child_weight': 1, 'gamma': 0.5051257287780403, 'subsample': 0.5994945662952613, 'colsample_bytree': 0.2114116724155206, 'reg_alpha': 0.1897546071577999, 'reg_lambda': 0.6398191978881647, 'random_state': 796}. Best is trial 12 with value: 0.7046797878595689.\u001b[0m\n",
      "\u001b[32m[I 2023-04-04 14:23:46,270]\u001b[0m Trial 13 finished with value: 0.705908997049143 and parameters: {'max_depth': 8, 'learning_rate': 0.41563689966851936, 'n_estimators': 989, 'min_child_weight': 1, 'gamma': 0.4725103345422545, 'subsample': 0.5983513228275897, 'colsample_bytree': 0.177103532541177, 'reg_alpha': 0.17438192885388537, 'reg_lambda': 0.6522942854688704, 'random_state': 646}. Best is trial 13 with value: 0.705908997049143.\u001b[0m\n",
      "\u001b[32m[I 2023-04-04 14:27:40,364]\u001b[0m Trial 14 finished with value: 0.6981095506099915 and parameters: {'max_depth': 10, 'learning_rate': 0.42268508455520004, 'n_estimators': 744, 'min_child_weight': 2, 'gamma': 0.47100427624132923, 'subsample': 0.5989389304994468, 'colsample_bytree': 0.2133907514434995, 'reg_alpha': 0.02099381846556933, 'reg_lambda': 0.6625614845011345, 'random_state': 620}. Best is trial 13 with value: 0.705908997049143.\u001b[0m\n",
      "\u001b[32m[I 2023-04-04 14:29:32,622]\u001b[0m Trial 15 finished with value: 0.7065779000319835 and parameters: {'max_depth': 8, 'learning_rate': 0.27505471679811233, 'n_estimators': 482, 'min_child_weight': 2, 'gamma': 0.5155453712368813, 'subsample': 0.5216740450640014, 'colsample_bytree': 0.18259858650532568, 'reg_alpha': 0.16492110357624545, 'reg_lambda': 0.6117549234227625, 'random_state': 257}. Best is trial 15 with value: 0.7065779000319835.\u001b[0m\n",
      "\u001b[32m[I 2023-04-04 14:31:30,821]\u001b[0m Trial 16 finished with value: 0.7048020986063133 and parameters: {'max_depth': 9, 'learning_rate': 0.2935456370162586, 'n_estimators': 503, 'min_child_weight': 2, 'gamma': 0.5715594632462648, 'subsample': 0.45421275288445534, 'colsample_bytree': 0.17136429411063925, 'reg_alpha': 0.17266189956893233, 'reg_lambda': 0.7141629630517063, 'random_state': 253}. Best is trial 15 with value: 0.7065779000319835.\u001b[0m\n",
      "\u001b[32m[I 2023-04-04 14:32:53,456]\u001b[0m Trial 17 finished with value: 0.6960671759760445 and parameters: {'max_depth': 6, 'learning_rate': 0.46310277547841533, 'n_estimators': 384, 'min_child_weight': 3, 'gamma': 0.37527221366094426, 'subsample': 0.34458369679095036, 'colsample_bytree': 0.2845385749139563, 'reg_alpha': 0.025325754940320716, 'reg_lambda': 0.5223522850358197, 'random_state': 252}. Best is trial 15 with value: 0.7065779000319835.\u001b[0m\n",
      "\u001b[32m[I 2023-04-04 14:34:18,933]\u001b[0m Trial 18 finished with value: 0.7029120051958125 and parameters: {'max_depth': 7, 'learning_rate': 0.2533319171607408, 'n_estimators': 588, 'min_child_weight': 2, 'gamma': 0.026104523496389587, 'subsample': 0.5899263515575517, 'colsample_bytree': 0.10881434731062303, 'reg_alpha': 0.15927283975126796, 'reg_lambda': 0.7367730633627908, 'random_state': 85}. Best is trial 15 with value: 0.7065779000319835.\u001b[0m\n"
     ]
    },
    {
     "name": "stderr",
     "output_type": "stream",
     "text": [
      "\u001b[32m[I 2023-04-04 14:37:34,207]\u001b[0m Trial 19 finished with value: 0.7082438191256909 and parameters: {'max_depth': 9, 'learning_rate': 0.48057799741324897, 'n_estimators': 354, 'min_child_weight': 3, 'gamma': 0.38410843210768003, 'subsample': 0.6833053993753271, 'colsample_bytree': 0.49783030716594706, 'reg_alpha': 0.23280642866925055, 'reg_lambda': 0.5959510590732177, 'random_state': 560}. Best is trial 19 with value: 0.7082438191256909.\u001b[0m\n",
      "\u001b[32m[I 2023-04-04 14:41:05,990]\u001b[0m Trial 20 finished with value: 0.6966356669886751 and parameters: {'max_depth': 9, 'learning_rate': 0.9757736448913283, 'n_estimators': 359, 'min_child_weight': 5, 'gamma': 0.3743630771245051, 'subsample': 0.6896360889051733, 'colsample_bytree': 0.54062884199514, 'reg_alpha': 0.26239791249634126, 'reg_lambda': 0.5607660314252046, 'random_state': 276}. Best is trial 19 with value: 0.7082438191256909.\u001b[0m\n",
      "\u001b[32m[I 2023-04-04 14:41:27,599]\u001b[0m Trial 21 finished with value: 0.6884820898684416 and parameters: {'max_depth': 9, 'learning_rate': 0.49001582205317756, 'n_estimators': 57, 'min_child_weight': 3, 'gamma': 0.5588529670651621, 'subsample': 0.5684537927844523, 'colsample_bytree': 0.2877785054471875, 'reg_alpha': 0.1365729080940853, 'reg_lambda': 0.6118032067250168, 'random_state': 565}. Best is trial 19 with value: 0.7082438191256909.\u001b[0m\n",
      "\u001b[32m[I 2023-04-04 14:45:17,288]\u001b[0m Trial 22 finished with value: 0.7048320259078525 and parameters: {'max_depth': 7, 'learning_rate': 0.24367370811348688, 'n_estimators': 565, 'min_child_weight': 2, 'gamma': 0.42090574663997365, 'subsample': 0.5142861836610471, 'colsample_bytree': 0.44526344519029243, 'reg_alpha': 0.10566220456194021, 'reg_lambda': 0.7184268493750738, 'random_state': 530}. Best is trial 19 with value: 0.7082438191256909.\u001b[0m\n",
      "\u001b[32m[I 2023-04-04 14:46:42,350]\u001b[0m Trial 23 finished with value: 0.7031872289850337 and parameters: {'max_depth': 10, 'learning_rate': 0.44508054992764, 'n_estimators': 398, 'min_child_weight': 1, 'gamma': 0.43825134293895773, 'subsample': 0.7011562350579578, 'colsample_bytree': 0.11957052523279339, 'reg_alpha': 0.22845274312232627, 'reg_lambda': 0.606173927040768, 'random_state': 688}. Best is trial 19 with value: 0.7082438191256909.\u001b[0m\n",
      "\u001b[32m[I 2023-04-04 14:50:46,719]\u001b[0m Trial 24 finished with value: 0.7015581516629026 and parameters: {'max_depth': 8, 'learning_rate': 0.4991807775056077, 'n_estimators': 802, 'min_child_weight': 3, 'gamma': 0.26879101021205687, 'subsample': 0.47589877357966626, 'colsample_bytree': 0.28242376647942263, 'reg_alpha': 0.1914365716719051, 'reg_lambda': 0.5286357895098687, 'random_state': 324}. Best is trial 19 with value: 0.7082438191256909.\u001b[0m\n",
      "\u001b[32m[I 2023-04-04 14:55:42,012]\u001b[0m Trial 25 finished with value: 0.7079783608041661 and parameters: {'max_depth': 9, 'learning_rate': 0.39747409338868606, 'n_estimators': 475, 'min_child_weight': 2, 'gamma': 0.5566669744994864, 'subsample': 0.6493881345727383, 'colsample_bytree': 0.5765145121182389, 'reg_alpha': 0.08547165352535559, 'reg_lambda': 0.47070386786561513, 'random_state': 137}. Best is trial 19 with value: 0.7082438191256909.\u001b[0m\n",
      "\u001b[32m[I 2023-04-04 15:00:37,034]\u001b[0m Trial 26 finished with value: 0.709105178789096 and parameters: {'max_depth': 9, 'learning_rate': 0.2894189303719569, 'n_estimators': 483, 'min_child_weight': 4, 'gamma': 0.6032025633673059, 'subsample': 0.685251944380008, 'colsample_bytree': 0.5758930838144295, 'reg_alpha': 0.06214925235153704, 'reg_lambda': 0.4651654498969917, 'random_state': 154}. Best is trial 26 with value: 0.709105178789096.\u001b[0m\n",
      "\u001b[32m[I 2023-04-04 15:04:04,449]\u001b[0m Trial 27 finished with value: 0.7019276155549304 and parameters: {'max_depth': 9, 'learning_rate': 0.19197104664546444, 'n_estimators': 319, 'min_child_weight': 6, 'gamma': 0.6002010370448814, 'subsample': 0.6641136941626914, 'colsample_bytree': 0.6019090908527537, 'reg_alpha': 0.03266101223599319, 'reg_lambda': 0.4408683852722375, 'random_state': 131}. Best is trial 26 with value: 0.709105178789096.\u001b[0m\n",
      "\u001b[32m[I 2023-04-04 15:11:29,915]\u001b[0m Trial 28 finished with value: 0.7078728734129821 and parameters: {'max_depth': 10, 'learning_rate': 0.3106740527849696, 'n_estimators': 587, 'min_child_weight': 4, 'gamma': 0.6552096949988719, 'subsample': 0.7995251921882, 'colsample_bytree': 0.6195051787072426, 'reg_alpha': 0.0941144347133493, 'reg_lambda': 0.3408714264988647, 'random_state': 140}. Best is trial 26 with value: 0.709105178789096.\u001b[0m\n",
      "\u001b[32m[I 2023-04-04 15:14:25,097]\u001b[0m Trial 29 finished with value: 0.7054270322013727 and parameters: {'max_depth': 9, 'learning_rate': 0.38588006464510366, 'n_estimators': 307, 'min_child_weight': 5, 'gamma': 0.2875430115501916, 'subsample': 0.7652759751306292, 'colsample_bytree': 0.4718333216130314, 'reg_alpha': 0.02785929714797284, 'reg_lambda': 0.32749980955936303, 'random_state': 160}. Best is trial 26 with value: 0.709105178789096.\u001b[0m\n"
     ]
    }
   ],
   "source": [
    "study_class = optuna.create_study(direction=\"maximize\", study_name='classification')\n",
    "study_class.optimize(objective, n_trials=30)"
   ]
  },
  {
   "cell_type": "code",
   "execution_count": 26,
   "metadata": {},
   "outputs": [
    {
     "data": {
      "text/plain": [
       "{'max_depth': 9,\n",
       " 'learning_rate': 0.2894189303719569,\n",
       " 'n_estimators': 483,\n",
       " 'min_child_weight': 4,\n",
       " 'gamma': 0.6032025633673059,\n",
       " 'subsample': 0.685251944380008,\n",
       " 'colsample_bytree': 0.5758930838144295,\n",
       " 'reg_alpha': 0.06214925235153704,\n",
       " 'reg_lambda': 0.4651654498969917,\n",
       " 'random_state': 154}"
      ]
     },
     "execution_count": 26,
     "metadata": {},
     "output_type": "execute_result"
    }
   ],
   "source": [
    "study_class.best_params"
   ]
  },
  {
   "cell_type": "code",
   "execution_count": 29,
   "metadata": {
    "id": "QZ4zJ1sEAocP"
   },
   "outputs": [
    {
     "data": {
      "text/html": [
       "<style>#sk-container-id-1 {color: black;background-color: white;}#sk-container-id-1 pre{padding: 0;}#sk-container-id-1 div.sk-toggleable {background-color: white;}#sk-container-id-1 label.sk-toggleable__label {cursor: pointer;display: block;width: 100%;margin-bottom: 0;padding: 0.3em;box-sizing: border-box;text-align: center;}#sk-container-id-1 label.sk-toggleable__label-arrow:before {content: \"▸\";float: left;margin-right: 0.25em;color: #696969;}#sk-container-id-1 label.sk-toggleable__label-arrow:hover:before {color: black;}#sk-container-id-1 div.sk-estimator:hover label.sk-toggleable__label-arrow:before {color: black;}#sk-container-id-1 div.sk-toggleable__content {max-height: 0;max-width: 0;overflow: hidden;text-align: left;background-color: #f0f8ff;}#sk-container-id-1 div.sk-toggleable__content pre {margin: 0.2em;color: black;border-radius: 0.25em;background-color: #f0f8ff;}#sk-container-id-1 input.sk-toggleable__control:checked~div.sk-toggleable__content {max-height: 200px;max-width: 100%;overflow: auto;}#sk-container-id-1 input.sk-toggleable__control:checked~label.sk-toggleable__label-arrow:before {content: \"▾\";}#sk-container-id-1 div.sk-estimator input.sk-toggleable__control:checked~label.sk-toggleable__label {background-color: #d4ebff;}#sk-container-id-1 div.sk-label input.sk-toggleable__control:checked~label.sk-toggleable__label {background-color: #d4ebff;}#sk-container-id-1 input.sk-hidden--visually {border: 0;clip: rect(1px 1px 1px 1px);clip: rect(1px, 1px, 1px, 1px);height: 1px;margin: -1px;overflow: hidden;padding: 0;position: absolute;width: 1px;}#sk-container-id-1 div.sk-estimator {font-family: monospace;background-color: #f0f8ff;border: 1px dotted black;border-radius: 0.25em;box-sizing: border-box;margin-bottom: 0.5em;}#sk-container-id-1 div.sk-estimator:hover {background-color: #d4ebff;}#sk-container-id-1 div.sk-parallel-item::after {content: \"\";width: 100%;border-bottom: 1px solid gray;flex-grow: 1;}#sk-container-id-1 div.sk-label:hover label.sk-toggleable__label {background-color: #d4ebff;}#sk-container-id-1 div.sk-serial::before {content: \"\";position: absolute;border-left: 1px solid gray;box-sizing: border-box;top: 0;bottom: 0;left: 50%;z-index: 0;}#sk-container-id-1 div.sk-serial {display: flex;flex-direction: column;align-items: center;background-color: white;padding-right: 0.2em;padding-left: 0.2em;position: relative;}#sk-container-id-1 div.sk-item {position: relative;z-index: 1;}#sk-container-id-1 div.sk-parallel {display: flex;align-items: stretch;justify-content: center;background-color: white;position: relative;}#sk-container-id-1 div.sk-item::before, #sk-container-id-1 div.sk-parallel-item::before {content: \"\";position: absolute;border-left: 1px solid gray;box-sizing: border-box;top: 0;bottom: 0;left: 50%;z-index: -1;}#sk-container-id-1 div.sk-parallel-item {display: flex;flex-direction: column;z-index: 1;position: relative;background-color: white;}#sk-container-id-1 div.sk-parallel-item:first-child::after {align-self: flex-end;width: 50%;}#sk-container-id-1 div.sk-parallel-item:last-child::after {align-self: flex-start;width: 50%;}#sk-container-id-1 div.sk-parallel-item:only-child::after {width: 0;}#sk-container-id-1 div.sk-dashed-wrapped {border: 1px dashed gray;margin: 0 0.4em 0.5em 0.4em;box-sizing: border-box;padding-bottom: 0.4em;background-color: white;}#sk-container-id-1 div.sk-label label {font-family: monospace;font-weight: bold;display: inline-block;line-height: 1.2em;}#sk-container-id-1 div.sk-label-container {text-align: center;}#sk-container-id-1 div.sk-container {/* jupyter's `normalize.less` sets `[hidden] { display: none; }` but bootstrap.min.css set `[hidden] { display: none !important; }` so we also need the `!important` here to be able to override the default hidden behavior on the sphinx rendered scikit-learn.org. See: https://github.com/scikit-learn/scikit-learn/issues/21755 */display: inline-block !important;position: relative;}#sk-container-id-1 div.sk-text-repr-fallback {display: none;}</style><div id=\"sk-container-id-1\" class=\"sk-top-container\"><div class=\"sk-text-repr-fallback\"><pre>XGBClassifier(base_score=None, booster=None, callbacks=None,\n",
       "              colsample_bylevel=None, colsample_bynode=None,\n",
       "              colsample_bytree=0.5758930838144295, early_stopping_rounds=None,\n",
       "              enable_categorical=False, eval_metric=None, feature_types=None,\n",
       "              gamma=0.6032025633673059, gpu_id=None, grow_policy=None,\n",
       "              importance_type=None, interaction_constraints=None,\n",
       "              learning_rate=0.2894189303719569, max_bin=None,\n",
       "              max_cat_threshold=None, max_cat_to_onehot=None,\n",
       "              max_delta_step=None, max_depth=9, max_leaves=None,\n",
       "              min_child_weight=4, missing=nan, monotone_constraints=None,\n",
       "              n_estimators=483, n_jobs=None, num_parallel_tree=None,\n",
       "              objective=&#x27;multi:softprob&#x27;, predictor=None, ...)</pre><b>In a Jupyter environment, please rerun this cell to show the HTML representation or trust the notebook. <br />On GitHub, the HTML representation is unable to render, please try loading this page with nbviewer.org.</b></div><div class=\"sk-container\" hidden><div class=\"sk-item\"><div class=\"sk-estimator sk-toggleable\"><input class=\"sk-toggleable__control sk-hidden--visually\" id=\"sk-estimator-id-1\" type=\"checkbox\" checked><label for=\"sk-estimator-id-1\" class=\"sk-toggleable__label sk-toggleable__label-arrow\">XGBClassifier</label><div class=\"sk-toggleable__content\"><pre>XGBClassifier(base_score=None, booster=None, callbacks=None,\n",
       "              colsample_bylevel=None, colsample_bynode=None,\n",
       "              colsample_bytree=0.5758930838144295, early_stopping_rounds=None,\n",
       "              enable_categorical=False, eval_metric=None, feature_types=None,\n",
       "              gamma=0.6032025633673059, gpu_id=None, grow_policy=None,\n",
       "              importance_type=None, interaction_constraints=None,\n",
       "              learning_rate=0.2894189303719569, max_bin=None,\n",
       "              max_cat_threshold=None, max_cat_to_onehot=None,\n",
       "              max_delta_step=None, max_depth=9, max_leaves=None,\n",
       "              min_child_weight=4, missing=nan, monotone_constraints=None,\n",
       "              n_estimators=483, n_jobs=None, num_parallel_tree=None,\n",
       "              objective=&#x27;multi:softprob&#x27;, predictor=None, ...)</pre></div></div></div></div></div>"
      ],
      "text/plain": [
       "XGBClassifier(base_score=None, booster=None, callbacks=None,\n",
       "              colsample_bylevel=None, colsample_bynode=None,\n",
       "              colsample_bytree=0.5758930838144295, early_stopping_rounds=None,\n",
       "              enable_categorical=False, eval_metric=None, feature_types=None,\n",
       "              gamma=0.6032025633673059, gpu_id=None, grow_policy=None,\n",
       "              importance_type=None, interaction_constraints=None,\n",
       "              learning_rate=0.2894189303719569, max_bin=None,\n",
       "              max_cat_threshold=None, max_cat_to_onehot=None,\n",
       "              max_delta_step=None, max_depth=9, max_leaves=None,\n",
       "              min_child_weight=4, missing=nan, monotone_constraints=None,\n",
       "              n_estimators=483, n_jobs=None, num_parallel_tree=None,\n",
       "              objective='multi:softprob', predictor=None, ...)"
      ]
     },
     "execution_count": 29,
     "metadata": {},
     "output_type": "execute_result"
    }
   ],
   "source": [
    "model = xgb.XGBClassifier(**study_class.best_params)\n",
    "model.fit(X_train_3, y_train_3)"
   ]
  },
  {
   "cell_type": "code",
   "execution_count": 30,
   "metadata": {
    "id": "F54iEwCak5mq"
   },
   "outputs": [],
   "source": [
    "y_test_pred = model.predict(X_test_3)"
   ]
  },
  {
   "cell_type": "code",
   "execution_count": 31,
   "metadata": {
    "colab": {
     "base_uri": "https://localhost:8080/"
    },
    "id": "IYkTDj-uA5so",
    "outputId": "ef49fec1-2952-4644-a62a-69a9d65d5542"
   },
   "outputs": [
    {
     "name": "stdout",
     "output_type": "stream",
     "text": [
      "Accuracy: 0.7473838810354323\n",
      "Precision: 0.7091993687824517\n",
      "Recall: 0.7473838810354323\n",
      "F1-score: 0.7113628373495067\n"
     ]
    }
   ],
   "source": [
    "print('Accuracy:', accuracy_score(y_test_3, y_test_pred))\n",
    "print('Precision:', precision_score(y_test_3, y_test_pred, average='weighted'))\n",
    "print('Recall:', recall_score(y_test_3, y_test_pred, average='weighted'))\n",
    "print('F1-score:', f1_score(y_test_3, y_test_pred, average='weighted'))"
   ]
  },
  {
   "cell_type": "code",
   "execution_count": 32,
   "metadata": {
    "colab": {
     "base_uri": "https://localhost:8080/",
     "height": 467
    },
    "id": "GwIo3lhZlDTt",
    "outputId": "3eb0aa20-97fe-4cd8-dafa-b51d8678116d"
   },
   "outputs": [
    {
     "data": {
      "text/plain": [
       "<sklearn.metrics._plot.confusion_matrix.ConfusionMatrixDisplay at 0x188c2b77f10>"
      ]
     },
     "execution_count": 32,
     "metadata": {},
     "output_type": "execute_result"
    },
    {
     "data": {
      "image/png": "[encoded data removed]",
      "text/plain": [
       "<Figure size 640x480 with 2 Axes>"
      ]
     },
     "metadata": {},
     "output_type": "display_data"
    }
   ],
   "source": [
    "cm = confusion_matrix(y_test_3, y_test_pred)\n",
    "cm_display = ConfusionMatrixDisplay(cm).plot(cmap=plt.cm.RdPu)\n",
    "cm_display"
   ]
  },
  {
   "cell_type": "code",
   "execution_count": null,
   "metadata": {
    "id": "p5ylMArIcCqV"
   },
   "outputs": [],
   "source": [
    "y_train_pred = model.predict(X_train_3)"
   ]
  },
  {
   "cell_type": "code",
   "execution_count": null,
   "metadata": {
    "colab": {
     "base_uri": "https://localhost:8080/"
    },
    "id": "8bDeaVp7d8AD",
    "outputId": "9a5b8943-d53b-4347-c5d3-64f305246d59"
   },
   "outputs": [
    {
     "name": "stdout",
     "output_type": "stream",
     "text": [
      "Accuracy: 0.8005434383491224\n",
      "Precision: 0.8256744130022092\n",
      "Recall: 0.8005434383491224\n",
      "F1-score: 0.7562186049613491\n"
     ]
    }
   ],
   "source": [
    "print('Accuracy:', accuracy_score(y_train_3, y_train_pred))\n",
    "print('Precision:', precision_score(y_train_3, y_train_pred, average='weighted'))\n",
    "print('Recall:', recall_score(y_train_3, y_train_pred, average='weighted'))\n",
    "print('F1-score:', f1_score(y_train_3, y_train_pred, average='weighted'))"
   ]
  },
  {
   "cell_type": "code",
   "execution_count": null,
   "metadata": {
    "colab": {
     "base_uri": "https://localhost:8080/",
     "height": 467
    },
    "id": "ms_2lrlclYMx",
    "outputId": "50025e46-a073-4c3e-c0ad-8c3d85b6ee95"
   },
   "outputs": [
    {
     "data": {
      "text/plain": [
       "<sklearn.metrics._plot.confusion_matrix.ConfusionMatrixDisplay at 0x7f05813c94c0>"
      ]
     },
     "execution_count": 36,
     "metadata": {},
     "output_type": "execute_result"
    },
    {
     "data": {
      "image/png": "[encoded data removed]",
      "text/plain": [
       "<Figure size 640x480 with 2 Axes>"
      ]
     },
     "metadata": {},
     "output_type": "display_data"
    }
   ],
   "source": [
    "cm = confusion_matrix(y_train_3, y_train_pred)\n",
    "cm_display = ConfusionMatrixDisplay(cm).plot(cmap=plt.cm.BuGn)\n",
    "cm_display"
   ]
  },
  {
   "cell_type": "markdown",
   "metadata": {},
   "source": [
    "### More classes"
   ]
  },
  {
   "cell_type": "code",
   "execution_count": 35,
   "metadata": {},
   "outputs": [
    {
     "data": {
      "text/plain": [
       "<AxesSubplot: ylabel='Frequency'>"
      ]
     },
     "execution_count": 35,
     "metadata": {},
     "output_type": "execute_result"
    },
    {
     "data": {
      "image/png": "[encoded data removed]",
      "text/plain": [
       "<Figure size 640x480 with 1 Axes>"
      ]
     },
     "metadata": {},
     "output_type": "display_data"
    }
   ],
   "source": [
    "df['yield_value'].plot.hist()"
   ]
  },
  {
   "cell_type": "code",
   "execution_count": 43,
   "metadata": {},
   "outputs": [
    {
     "data": {
      "text/plain": [
       "94"
      ]
     },
     "execution_count": 43,
     "metadata": {},
     "output_type": "execute_result"
    }
   ],
   "source": [
    "df['yield_value'].sort_values().iloc[(df.shape[0] // 5)*4]"
   ]
  },
  {
   "cell_type": "code",
   "execution_count": 44,
   "metadata": {},
   "outputs": [],
   "source": [
    "def get_yield_class(y):\n",
    "    if y <= 60:\n",
    "        c = 0 #low\n",
    "    elif y > 60 and y <= 76:\n",
    "        c = 1 #medium\n",
    "    elif y > 76 and y <= 86:\n",
    "        c = 2 #medium\n",
    "    elif y > 86 and y <= 94:\n",
    "        c = 3 #medium\n",
    "    elif y > 94:\n",
    "        c = 4 #high\n",
    "    return c"
   ]
  },
  {
   "cell_type": "code",
   "execution_count": 45,
   "metadata": {},
   "outputs": [],
   "source": [
    "df_new['yield_value'] = df['yield_value'].apply(get_yield_class).to_frame().set_index(df.index)"
   ]
  },
  {
   "cell_type": "code",
   "execution_count": 46,
   "metadata": {},
   "outputs": [],
   "source": [
    "X_train_2, X_test_2, y_train_2, y_test_2 = train_test_split(reactions_fp, df_new['yield_value'], test_size=0.25, random_state=42, shuffle=True)"
   ]
  },
  {
   "cell_type": "code",
   "execution_count": 47,
   "metadata": {},
   "outputs": [],
   "source": [
    "X_train_1, X_val_1, y_train_1, y_val_1 = train_test_split(X_train_2, y_train_2, test_size=0.25, random_state=42, shuffle=True)"
   ]
  },
  {
   "cell_type": "code",
   "execution_count": 50,
   "metadata": {},
   "outputs": [],
   "source": [
    "def objective_2(trial):\n",
    "    \"\"\"Define the objective function\"\"\"\n",
    "\n",
    "    param = {\n",
    "        'max_depth': trial.suggest_int('max_depth', 1, 10),\n",
    "        'learning_rate': trial.suggest_float('learning_rate', 0.01, 1.0),\n",
    "        'n_estimators': trial.suggest_int('n_estimators', 50, 1000),\n",
    "        'min_child_weight': trial.suggest_int('min_child_weight', 1, 10),\n",
    "        'gamma': trial.suggest_float('gamma', 0.01, 1.0),\n",
    "        'subsample': trial.suggest_float('subsample', 0.01, 1.0),\n",
    "        'colsample_bytree': trial.suggest_float('colsample_bytree', 0.01, 1.0),\n",
    "        'reg_alpha': trial.suggest_float('reg_alpha', 0.01, 1.0),\n",
    "        'reg_lambda': trial.suggest_float('reg_lambda', 0.01, 1.0),\n",
    "        'random_state': trial.suggest_int('random_state', 1, 1000)\n",
    "    }\n",
    "\n",
    "    # Fit the model\n",
    "    optuna_model = xgb.XGBClassifier(**param)\n",
    "    optuna_model.fit(X_train_1, y_train_1)\n",
    "\n",
    "    # Make predictions\n",
    "    y_pred = optuna_model.predict(X_val_1)\n",
    "\n",
    "    # Evaluate predictions\n",
    "    return f1_score(y_val_1, y_pred, average='weighted')"
   ]
  },
  {
   "cell_type": "code",
   "execution_count": 51,
   "metadata": {},
   "outputs": [
    {
     "name": "stderr",
     "output_type": "stream",
     "text": [
      "\u001b[32m[I 2023-04-04 16:27:59,023]\u001b[0m A new study created in memory with name: classification\u001b[0m\n",
      "\u001b[32m[I 2023-04-04 16:28:45,481]\u001b[0m Trial 0 finished with value: 0.31065496118272473 and parameters: {'max_depth': 4, 'learning_rate': 0.4538355020097123, 'n_estimators': 71, 'min_child_weight': 1, 'gamma': 0.3586705340293446, 'subsample': 0.7735514941562469, 'colsample_bytree': 0.8830813020482293, 'reg_alpha': 0.5213798273698617, 'reg_lambda': 0.6384200809321942, 'random_state': 919}. Best is trial 0 with value: 0.31065496118272473.\u001b[0m\n",
      "\u001b[32m[I 2023-04-04 16:37:06,837]\u001b[0m Trial 1 finished with value: 0.32584512878707783 and parameters: {'max_depth': 8, 'learning_rate': 0.9557296199237134, 'n_estimators': 544, 'min_child_weight': 7, 'gamma': 0.694487873745383, 'subsample': 0.2684949308095442, 'colsample_bytree': 0.8081200392070207, 'reg_alpha': 0.8105569054779684, 'reg_lambda': 0.0653664853250797, 'random_state': 562}. Best is trial 1 with value: 0.32584512878707783.\u001b[0m\n",
      "\u001b[32m[I 2023-04-04 16:38:13,816]\u001b[0m Trial 2 finished with value: 0.3013807423360481 and parameters: {'max_depth': 3, 'learning_rate': 0.5907179587784106, 'n_estimators': 896, 'min_child_weight': 1, 'gamma': 0.14578683839619577, 'subsample': 0.1715451053632001, 'colsample_bytree': 0.04414394599904054, 'reg_alpha': 0.2868449830313827, 'reg_lambda': 0.9310269155202877, 'random_state': 724}. Best is trial 1 with value: 0.32584512878707783.\u001b[0m\n",
      "\u001b[32m[I 2023-04-04 16:41:08,970]\u001b[0m Trial 3 finished with value: 0.2964923782365186 and parameters: {'max_depth': 6, 'learning_rate': 0.2958111145796107, 'n_estimators': 565, 'min_child_weight': 3, 'gamma': 0.38958065854626117, 'subsample': 0.05125467636038917, 'colsample_bytree': 0.5105246363159973, 'reg_alpha': 0.9473668735699103, 'reg_lambda': 0.32876345515403044, 'random_state': 521}. Best is trial 1 with value: 0.32584512878707783.\u001b[0m\n",
      "\u001b[32m[I 2023-04-04 16:43:05,895]\u001b[0m Trial 4 finished with value: 0.35210601625381543 and parameters: {'max_depth': 10, 'learning_rate': 0.7149192147408344, 'n_estimators': 900, 'min_child_weight': 7, 'gamma': 0.29092409114381046, 'subsample': 0.951822341774453, 'colsample_bytree': 0.029073404254003177, 'reg_alpha': 0.8385031982077317, 'reg_lambda': 0.8447366516994501, 'random_state': 277}. Best is trial 4 with value: 0.35210601625381543.\u001b[0m\n",
      "\u001b[32m[I 2023-04-04 16:46:26,117]\u001b[0m Trial 5 finished with value: 0.3185697809315707 and parameters: {'max_depth': 7, 'learning_rate': 0.7727036661098765, 'n_estimators': 561, 'min_child_weight': 5, 'gamma': 0.914645146257325, 'subsample': 0.21957398280158064, 'colsample_bytree': 0.33992241215705155, 'reg_alpha': 0.18399748526867718, 'reg_lambda': 0.6307912321064667, 'random_state': 403}. Best is trial 4 with value: 0.35210601625381543.\u001b[0m\n",
      "\u001b[32m[I 2023-04-04 16:58:39,210]\u001b[0m Trial 6 finished with value: 0.35927063383049956 and parameters: {'max_depth': 8, 'learning_rate': 0.1483419856850552, 'n_estimators': 735, 'min_child_weight': 6, 'gamma': 0.6595847146778748, 'subsample': 0.7556101722325207, 'colsample_bytree': 0.6724251075172133, 'reg_alpha': 0.8773424179881637, 'reg_lambda': 0.522664696876254, 'random_state': 608}. Best is trial 6 with value: 0.35927063383049956.\u001b[0m\n",
      "\u001b[32m[I 2023-04-04 16:59:27,864]\u001b[0m Trial 7 finished with value: 0.2671697659558237 and parameters: {'max_depth': 1, 'learning_rate': 0.8079538506459684, 'n_estimators': 317, 'min_child_weight': 3, 'gamma': 0.5943118896231456, 'subsample': 0.15694779373165588, 'colsample_bytree': 0.8694986181653637, 'reg_alpha': 0.4191886977969211, 'reg_lambda': 0.6509280882927674, 'random_state': 960}. Best is trial 6 with value: 0.35927063383049956.\u001b[0m\n",
      "\u001b[32m[I 2023-04-04 17:04:38,386]\u001b[0m Trial 8 finished with value: 0.3233695883449795 and parameters: {'max_depth': 5, 'learning_rate': 0.5009077250428352, 'n_estimators': 950, 'min_child_weight': 2, 'gamma': 0.5594936104820433, 'subsample': 0.1935197642570084, 'colsample_bytree': 0.42401945590827417, 'reg_alpha': 0.4308314445644865, 'reg_lambda': 0.23392476760224468, 'random_state': 420}. Best is trial 6 with value: 0.35927063383049956.\u001b[0m\n",
      "\u001b[32m[I 2023-04-04 17:06:13,782]\u001b[0m Trial 9 finished with value: 0.27617144745130556 and parameters: {'max_depth': 1, 'learning_rate': 0.11298935187296563, 'n_estimators': 820, 'min_child_weight': 8, 'gamma': 0.07809630556484533, 'subsample': 0.7026512816711509, 'colsample_bytree': 0.2607484679109123, 'reg_alpha': 0.5094343851616893, 'reg_lambda': 0.5374842850640166, 'random_state': 179}. Best is trial 6 with value: 0.35927063383049956.\u001b[0m\n",
      "\u001b[32m[I 2023-04-04 17:21:11,835]\u001b[0m Trial 10 finished with value: 0.35095062315286324 and parameters: {'max_depth': 9, 'learning_rate': 0.046767442644121526, 'n_estimators': 721, 'min_child_weight': 10, 'gamma': 0.8092484987037702, 'subsample': 0.47297196399733066, 'colsample_bytree': 0.6680191371363337, 'reg_alpha': 0.023048913555614392, 'reg_lambda': 0.39760140062356325, 'random_state': 44}. Best is trial 6 with value: 0.35927063383049956.\u001b[0m\n",
      "\u001b[32m[I 2023-04-04 17:22:29,847]\u001b[0m Trial 11 finished with value: 0.31761807881832416 and parameters: {'max_depth': 10, 'learning_rate': 0.2719651816123094, 'n_estimators': 721, 'min_child_weight': 6, 'gamma': 0.9882751797888916, 'subsample': 0.9729672001757947, 'colsample_bytree': 0.012900831203315727, 'reg_alpha': 0.7724969173635526, 'reg_lambda': 0.9052041976370707, 'random_state': 272}. Best is trial 6 with value: 0.35927063383049956.\u001b[0m\n",
      "\u001b[32m[I 2023-04-04 17:40:31,047]\u001b[0m Trial 12 finished with value: 0.35684918109499364 and parameters: {'max_depth': 10, 'learning_rate': 0.6288663084259912, 'n_estimators': 980, 'min_child_weight': 9, 'gamma': 0.38271310335461783, 'subsample': 0.9333997868340732, 'colsample_bytree': 0.6048286739714404, 'reg_alpha': 0.981814307165144, 'reg_lambda': 0.8032760866348749, 'random_state': 705}. Best is trial 6 with value: 0.35927063383049956.\u001b[0m\n",
      "\u001b[32m[I 2023-04-04 17:52:51,118]\u001b[0m Trial 13 finished with value: 0.3574271214698317 and parameters: {'max_depth': 8, 'learning_rate': 0.3347641954753926, 'n_estimators': 740, 'min_child_weight': 10, 'gamma': 0.4858098116346909, 'subsample': 0.7891399092023661, 'colsample_bytree': 0.6500535381643628, 'reg_alpha': 0.9979208748659428, 'reg_lambda': 0.755315788572714, 'random_state': 733}. Best is trial 6 with value: 0.35927063383049956.\u001b[0m\n",
      "\u001b[32m[I 2023-04-04 18:00:40,133]\u001b[0m Trial 14 finished with value: 0.3551386532444836 and parameters: {'max_depth': 8, 'learning_rate': 0.21535702236297538, 'n_estimators': 386, 'min_child_weight': 10, 'gamma': 0.6989756430360692, 'subsample': 0.6917066608075302, 'colsample_bytree': 0.7297405176007878, 'reg_alpha': 0.6949435249678936, 'reg_lambda': 0.7424060048804659, 'random_state': 747}. Best is trial 6 with value: 0.35927063383049956.\u001b[0m\n",
      "\u001b[32m[I 2023-04-04 18:17:26,568]\u001b[0m Trial 15 finished with value: 0.3585988272647933 and parameters: {'max_depth': 7, 'learning_rate': 0.17884421027238048, 'n_estimators': 720, 'min_child_weight': 5, 'gamma': 0.5031292178982618, 'subsample': 0.5677073003906771, 'colsample_bytree': 0.9565389476279145, 'reg_alpha': 0.9845289693208616, 'reg_lambda': 0.49996044583235194, 'random_state': 601}. Best is trial 6 with value: 0.35927063383049956.\u001b[0m\n",
      "\u001b[32m[I 2023-04-04 18:25:53,862]\u001b[0m Trial 16 finished with value: 0.31864581648611706 and parameters: {'max_depth': 6, 'learning_rate': 0.026836468950711304, 'n_estimators': 407, 'min_child_weight': 5, 'gamma': 0.64497022784794, 'subsample': 0.5227242285471956, 'colsample_bytree': 0.9933574285410217, 'reg_alpha': 0.6321404278685974, 'reg_lambda': 0.5004782662775793, 'random_state': 608}. Best is trial 6 with value: 0.35927063383049956.\u001b[0m\n",
      "\u001b[32m[I 2023-04-04 18:40:32,187]\u001b[0m Trial 17 finished with value: 0.35839025697935945 and parameters: {'max_depth': 7, 'learning_rate': 0.15788257717486118, 'n_estimators': 634, 'min_child_weight': 4, 'gamma': 0.48789917932060783, 'subsample': 0.549466026488944, 'colsample_bytree': 0.970641333474702, 'reg_alpha': 0.8671851447961147, 'reg_lambda': 0.9863322718836962, 'random_state': 869}. Best is trial 6 with value: 0.35927063383049956.\u001b[0m\n",
      "\u001b[32m[I 2023-04-04 18:49:47,370]\u001b[0m Trial 18 finished with value: 0.3439891220753137 and parameters: {'max_depth': 5, 'learning_rate': 0.39137092767491827, 'n_estimators': 777, 'min_child_weight': 6, 'gamma': 0.723002946464499, 'subsample': 0.382827725112678, 'colsample_bytree': 0.7942260955641616, 'reg_alpha': 0.9135764256192378, 'reg_lambda': 0.4761195553379771, 'random_state': 414}. Best is trial 6 with value: 0.35927063383049956.\u001b[0m\n"
     ]
    },
    {
     "name": "stderr",
     "output_type": "stream",
     "text": [
      "\u001b[32m[I 2023-04-04 19:00:33,748]\u001b[0m Trial 19 finished with value: 0.35522337220580225 and parameters: {'max_depth': 7, 'learning_rate': 0.18183210691681057, 'n_estimators': 650, 'min_child_weight': 4, 'gamma': 0.8087298102960725, 'subsample': 0.6187993679472736, 'colsample_bytree': 0.7242488239223421, 'reg_alpha': 0.7341961581466766, 'reg_lambda': 0.33632593134188254, 'random_state': 619}. Best is trial 6 with value: 0.35927063383049956.\u001b[0m\n",
      "\u001b[32m[I 2023-04-04 19:03:35,575]\u001b[0m Trial 20 finished with value: 0.3416481625188292 and parameters: {'max_depth': 9, 'learning_rate': 0.3982742158971907, 'n_estimators': 191, 'min_child_weight': 7, 'gamma': 0.5603325069622054, 'subsample': 0.4067941626664596, 'colsample_bytree': 0.568007422353952, 'reg_alpha': 0.8951354645063136, 'reg_lambda': 0.5697205512379482, 'random_state': 841}. Best is trial 6 with value: 0.35927063383049956.\u001b[0m\n",
      "\u001b[32m[I 2023-04-04 19:18:17,742]\u001b[0m Trial 21 finished with value: 0.35888803812274944 and parameters: {'max_depth': 7, 'learning_rate': 0.16370737352929787, 'n_estimators': 646, 'min_child_weight': 4, 'gamma': 0.4887648326031665, 'subsample': 0.5763284027942368, 'colsample_bytree': 0.9789437043247435, 'reg_alpha': 0.8448936999773717, 'reg_lambda': 0.9822032144823818, 'random_state': 848}. Best is trial 6 with value: 0.35927063383049956.\u001b[0m\n",
      "\u001b[32m[I 2023-04-04 19:32:50,220]\u001b[0m Trial 22 finished with value: 0.3588076828621439 and parameters: {'max_depth': 7, 'learning_rate': 0.10091919281322834, 'n_estimators': 650, 'min_child_weight': 4, 'gamma': 0.4675454092809965, 'subsample': 0.619944966196119, 'colsample_bytree': 0.9986510490469477, 'reg_alpha': 0.8471933085535013, 'reg_lambda': 0.7357553107664304, 'random_state': 817}. Best is trial 6 with value: 0.35927063383049956.\u001b[0m\n",
      "\u001b[32m[I 2023-04-04 19:45:30,322]\u001b[0m Trial 23 finished with value: 0.359507721590216 and parameters: {'max_depth': 9, 'learning_rate': 0.08626240849830037, 'n_estimators': 494, 'min_child_weight': 4, 'gamma': 0.4411553248697872, 'subsample': 0.619281218260476, 'colsample_bytree': 0.8862370639362338, 'reg_alpha': 0.8162560045390927, 'reg_lambda': 0.8368052825622, 'random_state': 821}. Best is trial 23 with value: 0.359507721590216.\u001b[0m\n",
      "\u001b[32m[I 2023-04-04 19:56:08,828]\u001b[0m Trial 24 finished with value: 0.3388987643056293 and parameters: {'max_depth': 9, 'learning_rate': 0.016452633517682974, 'n_estimators': 453, 'min_child_weight': 3, 'gamma': 0.6117812114261175, 'subsample': 0.7945701483086783, 'colsample_bytree': 0.8840969798063448, 'reg_alpha': 0.6767707717809621, 'reg_lambda': 0.8943788289993122, 'random_state': 995}. Best is trial 23 with value: 0.359507721590216.\u001b[0m\n",
      "\u001b[32m[I 2023-04-04 20:02:07,143]\u001b[0m Trial 25 finished with value: 0.35848397842965574 and parameters: {'max_depth': 8, 'learning_rate': 0.2220365832404967, 'n_estimators': 323, 'min_child_weight': 6, 'gamma': 0.29056455023171357, 'subsample': 0.8525661438744077, 'colsample_bytree': 0.8046977224976317, 'reg_alpha': 0.7847514375268125, 'reg_lambda': 0.9987184851746171, 'random_state': 782}. Best is trial 23 with value: 0.359507721590216.\u001b[0m\n",
      "\u001b[32m[I 2023-04-04 20:14:36,658]\u001b[0m Trial 26 finished with value: 0.3621442831472199 and parameters: {'max_depth': 9, 'learning_rate': 0.09986183887426114, 'n_estimators': 496, 'min_child_weight': 2, 'gamma': 0.42768767909444233, 'subsample': 0.6874024615123444, 'colsample_bytree': 0.8841174273940635, 'reg_alpha': 0.6238666918176015, 'reg_lambda': 0.8721403544025372, 'random_state': 889}. Best is trial 26 with value: 0.3621442831472199.\u001b[0m\n",
      "\u001b[32m[I 2023-04-04 20:25:17,880]\u001b[0m Trial 27 finished with value: 0.35861742585941186 and parameters: {'max_depth': 9, 'learning_rate': 0.09612346543130645, 'n_estimators': 494, 'min_child_weight': 2, 'gamma': 0.2146326808212425, 'subsample': 0.6790695189608402, 'colsample_bytree': 0.749470106277128, 'reg_alpha': 0.615872592096526, 'reg_lambda': 0.8493230388487618, 'random_state': 667}. Best is trial 26 with value: 0.3621442831472199.\u001b[0m\n",
      "\u001b[32m[I 2023-04-04 20:31:50,562]\u001b[0m Trial 28 finished with value: 0.3603556701624797 and parameters: {'max_depth': 10, 'learning_rate': 0.2775325537321997, 'n_estimators': 256, 'min_child_weight': 2, 'gamma': 0.43030108307090065, 'subsample': 0.8571563051964488, 'colsample_bytree': 0.886503184471747, 'reg_alpha': 0.7560727526011463, 'reg_lambda': 0.7071175996083561, 'random_state': 905}. Best is trial 26 with value: 0.3621442831472199.\u001b[0m\n",
      "\u001b[32m[I 2023-04-04 20:34:56,421]\u001b[0m Trial 29 finished with value: 0.35896854979688037 and parameters: {'max_depth': 10, 'learning_rate': 0.25362786502109547, 'n_estimators': 120, 'min_child_weight': 1, 'gamma': 0.4019939474556204, 'subsample': 0.8691975107910116, 'colsample_bytree': 0.8959969527184043, 'reg_alpha': 0.7358961976280777, 'reg_lambda': 0.6490010559572762, 'random_state': 935}. Best is trial 26 with value: 0.3621442831472199.\u001b[0m\n"
     ]
    }
   ],
   "source": [
    "study_class_2 = optuna.create_study(direction=\"maximize\", study_name='classification')\n",
    "study_class_2.optimize(objective_2, n_trials=30)"
   ]
  },
  {
   "cell_type": "code",
   "execution_count": 52,
   "metadata": {},
   "outputs": [
    {
     "data": {
      "text/plain": [
       "{'max_depth': 9,\n",
       " 'learning_rate': 0.09986183887426114,\n",
       " 'n_estimators': 496,\n",
       " 'min_child_weight': 2,\n",
       " 'gamma': 0.42768767909444233,\n",
       " 'subsample': 0.6874024615123444,\n",
       " 'colsample_bytree': 0.8841174273940635,\n",
       " 'reg_alpha': 0.6238666918176015,\n",
       " 'reg_lambda': 0.8721403544025372,\n",
       " 'random_state': 889}"
      ]
     },
     "execution_count": 52,
     "metadata": {},
     "output_type": "execute_result"
    }
   ],
   "source": [
    "study_class_2.best_params"
   ]
  },
  {
   "cell_type": "code",
   "execution_count": 53,
   "metadata": {},
   "outputs": [
    {
     "data": {
      "text/html": [
       "<style>#sk-container-id-2 {color: black;background-color: white;}#sk-container-id-2 pre{padding: 0;}#sk-container-id-2 div.sk-toggleable {background-color: white;}#sk-container-id-2 label.sk-toggleable__label {cursor: pointer;display: block;width: 100%;margin-bottom: 0;padding: 0.3em;box-sizing: border-box;text-align: center;}#sk-container-id-2 label.sk-toggleable__label-arrow:before {content: \"▸\";float: left;margin-right: 0.25em;color: #696969;}#sk-container-id-2 label.sk-toggleable__label-arrow:hover:before {color: black;}#sk-container-id-2 div.sk-estimator:hover label.sk-toggleable__label-arrow:before {color: black;}#sk-container-id-2 div.sk-toggleable__content {max-height: 0;max-width: 0;overflow: hidden;text-align: left;background-color: #f0f8ff;}#sk-container-id-2 div.sk-toggleable__content pre {margin: 0.2em;color: black;border-radius: 0.25em;background-color: #f0f8ff;}#sk-container-id-2 input.sk-toggleable__control:checked~div.sk-toggleable__content {max-height: 200px;max-width: 100%;overflow: auto;}#sk-container-id-2 input.sk-toggleable__control:checked~label.sk-toggleable__label-arrow:before {content: \"▾\";}#sk-container-id-2 div.sk-estimator input.sk-toggleable__control:checked~label.sk-toggleable__label {background-color: #d4ebff;}#sk-container-id-2 div.sk-label input.sk-toggleable__control:checked~label.sk-toggleable__label {background-color: #d4ebff;}#sk-container-id-2 input.sk-hidden--visually {border: 0;clip: rect(1px 1px 1px 1px);clip: rect(1px, 1px, 1px, 1px);height: 1px;margin: -1px;overflow: hidden;padding: 0;position: absolute;width: 1px;}#sk-container-id-2 div.sk-estimator {font-family: monospace;background-color: #f0f8ff;border: 1px dotted black;border-radius: 0.25em;box-sizing: border-box;margin-bottom: 0.5em;}#sk-container-id-2 div.sk-estimator:hover {background-color: #d4ebff;}#sk-container-id-2 div.sk-parallel-item::after {content: \"\";width: 100%;border-bottom: 1px solid gray;flex-grow: 1;}#sk-container-id-2 div.sk-label:hover label.sk-toggleable__label {background-color: #d4ebff;}#sk-container-id-2 div.sk-serial::before {content: \"\";position: absolute;border-left: 1px solid gray;box-sizing: border-box;top: 0;bottom: 0;left: 50%;z-index: 0;}#sk-container-id-2 div.sk-serial {display: flex;flex-direction: column;align-items: center;background-color: white;padding-right: 0.2em;padding-left: 0.2em;position: relative;}#sk-container-id-2 div.sk-item {position: relative;z-index: 1;}#sk-container-id-2 div.sk-parallel {display: flex;align-items: stretch;justify-content: center;background-color: white;position: relative;}#sk-container-id-2 div.sk-item::before, #sk-container-id-2 div.sk-parallel-item::before {content: \"\";position: absolute;border-left: 1px solid gray;box-sizing: border-box;top: 0;bottom: 0;left: 50%;z-index: -1;}#sk-container-id-2 div.sk-parallel-item {display: flex;flex-direction: column;z-index: 1;position: relative;background-color: white;}#sk-container-id-2 div.sk-parallel-item:first-child::after {align-self: flex-end;width: 50%;}#sk-container-id-2 div.sk-parallel-item:last-child::after {align-self: flex-start;width: 50%;}#sk-container-id-2 div.sk-parallel-item:only-child::after {width: 0;}#sk-container-id-2 div.sk-dashed-wrapped {border: 1px dashed gray;margin: 0 0.4em 0.5em 0.4em;box-sizing: border-box;padding-bottom: 0.4em;background-color: white;}#sk-container-id-2 div.sk-label label {font-family: monospace;font-weight: bold;display: inline-block;line-height: 1.2em;}#sk-container-id-2 div.sk-label-container {text-align: center;}#sk-container-id-2 div.sk-container {/* jupyter's `normalize.less` sets `[hidden] { display: none; }` but bootstrap.min.css set `[hidden] { display: none !important; }` so we also need the `!important` here to be able to override the default hidden behavior on the sphinx rendered scikit-learn.org. See: https://github.com/scikit-learn/scikit-learn/issues/21755 */display: inline-block !important;position: relative;}#sk-container-id-2 div.sk-text-repr-fallback {display: none;}</style><div id=\"sk-container-id-2\" class=\"sk-top-container\"><div class=\"sk-text-repr-fallback\"><pre>XGBClassifier(base_score=None, booster=None, callbacks=None,\n",
       "              colsample_bylevel=None, colsample_bynode=None,\n",
       "              colsample_bytree=0.5758930838144295, early_stopping_rounds=None,\n",
       "              enable_categorical=False, eval_metric=None, feature_types=None,\n",
       "              gamma=0.6032025633673059, gpu_id=None, grow_policy=None,\n",
       "              importance_type=None, interaction_constraints=None,\n",
       "              learning_rate=0.2894189303719569, max_bin=None,\n",
       "              max_cat_threshold=None, max_cat_to_onehot=None,\n",
       "              max_delta_step=None, max_depth=9, max_leaves=None,\n",
       "              min_child_weight=4, missing=nan, monotone_constraints=None,\n",
       "              n_estimators=483, n_jobs=None, num_parallel_tree=None,\n",
       "              objective=&#x27;multi:softprob&#x27;, predictor=None, ...)</pre><b>In a Jupyter environment, please rerun this cell to show the HTML representation or trust the notebook. <br />On GitHub, the HTML representation is unable to render, please try loading this page with nbviewer.org.</b></div><div class=\"sk-container\" hidden><div class=\"sk-item\"><div class=\"sk-estimator sk-toggleable\"><input class=\"sk-toggleable__control sk-hidden--visually\" id=\"sk-estimator-id-2\" type=\"checkbox\" checked><label for=\"sk-estimator-id-2\" class=\"sk-toggleable__label sk-toggleable__label-arrow\">XGBClassifier</label><div class=\"sk-toggleable__content\"><pre>XGBClassifier(base_score=None, booster=None, callbacks=None,\n",
       "              colsample_bylevel=None, colsample_bynode=None,\n",
       "              colsample_bytree=0.5758930838144295, early_stopping_rounds=None,\n",
       "              enable_categorical=False, eval_metric=None, feature_types=None,\n",
       "              gamma=0.6032025633673059, gpu_id=None, grow_policy=None,\n",
       "              importance_type=None, interaction_constraints=None,\n",
       "              learning_rate=0.2894189303719569, max_bin=None,\n",
       "              max_cat_threshold=None, max_cat_to_onehot=None,\n",
       "              max_delta_step=None, max_depth=9, max_leaves=None,\n",
       "              min_child_weight=4, missing=nan, monotone_constraints=None,\n",
       "              n_estimators=483, n_jobs=None, num_parallel_tree=None,\n",
       "              objective=&#x27;multi:softprob&#x27;, predictor=None, ...)</pre></div></div></div></div></div>"
      ],
      "text/plain": [
       "XGBClassifier(base_score=None, booster=None, callbacks=None,\n",
       "              colsample_bylevel=None, colsample_bynode=None,\n",
       "              colsample_bytree=0.5758930838144295, early_stopping_rounds=None,\n",
       "              enable_categorical=False, eval_metric=None, feature_types=None,\n",
       "              gamma=0.6032025633673059, gpu_id=None, grow_policy=None,\n",
       "              importance_type=None, interaction_constraints=None,\n",
       "              learning_rate=0.2894189303719569, max_bin=None,\n",
       "              max_cat_threshold=None, max_cat_to_onehot=None,\n",
       "              max_delta_step=None, max_depth=9, max_leaves=None,\n",
       "              min_child_weight=4, missing=nan, monotone_constraints=None,\n",
       "              n_estimators=483, n_jobs=None, num_parallel_tree=None,\n",
       "              objective='multi:softprob', predictor=None, ...)"
      ]
     },
     "execution_count": 53,
     "metadata": {},
     "output_type": "execute_result"
    }
   ],
   "source": [
    "model = xgb.XGBClassifier(**study_class.best_params)\n",
    "model.fit(X_train_2, y_train_2)"
   ]
  },
  {
   "cell_type": "code",
   "execution_count": 54,
   "metadata": {},
   "outputs": [],
   "source": [
    "y_test_pred = model.predict(X_test_2)"
   ]
  },
  {
   "cell_type": "code",
   "execution_count": 55,
   "metadata": {},
   "outputs": [
    {
     "name": "stdout",
     "output_type": "stream",
     "text": [
      "Accuracy: 0.37818982926381495\n",
      "Precision: 0.3750531547208717\n",
      "Recall: 0.37818982926381495\n",
      "F1-score: 0.3755492704392754\n"
     ]
    }
   ],
   "source": [
    "print('Accuracy:', accuracy_score(y_test_2, y_test_pred))\n",
    "print('Precision:', precision_score(y_test_2, y_test_pred, average='weighted'))\n",
    "print('Recall:', recall_score(y_test_2, y_test_pred, average='weighted'))\n",
    "print('F1-score:', f1_score(y_test_2, y_test_pred, average='weighted'))"
   ]
  },
  {
   "cell_type": "code",
   "execution_count": 56,
   "metadata": {},
   "outputs": [
    {
     "data": {
      "text/plain": [
       "<sklearn.metrics._plot.confusion_matrix.ConfusionMatrixDisplay at 0x1892cd1bd60>"
      ]
     },
     "execution_count": 56,
     "metadata": {},
     "output_type": "execute_result"
    },
    {
     "data": {
      "image/png": "[encoded data removed]",
      "text/plain": [
       "<Figure size 640x480 with 2 Axes>"
      ]
     },
     "metadata": {},
     "output_type": "display_data"
    }
   ],
   "source": [
    "cm = confusion_matrix(y_test_2, y_test_pred)\n",
    "cm_display = ConfusionMatrixDisplay(cm).plot(cmap=plt.cm.RdPu)\n",
    "cm_display"
   ]
  },
  {
   "cell_type": "code",
   "execution_count": null,
   "metadata": {},
   "outputs": [],
   "source": []
  }
 ],
 "metadata": {
  "colab": {
   "provenance": []
  },
  "kernelspec": {
   "display_name": "Python 3 (ipykernel)",
   "language": "python",
   "name": "python3"
  },
  "language_info": {
   "codemirror_mode": {
    "name": "ipython",
    "version": 3
   },
   "file_extension": ".py",
   "mimetype": "text/x-python",
   "name": "python",
   "nbconvert_exporter": "python",
   "pygments_lexer": "ipython3",
   "version": "3.9.12"
  }
 },
 "nbformat": 4,
 "nbformat_minor": 1
}
