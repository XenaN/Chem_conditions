{
  "nbformat": 4,
  "nbformat_minor": 0,
  "metadata": {
    "colab": {
      "provenance": []
    },
    "kernelspec": {
      "name": "python3",
      "display_name": "Python 3"
    },
    "language_info": {
      "name": "python"
    }
  },
  "cells": [
    {
      "cell_type": "code",
      "source": [
        "%pip install rdkit"
      ],
      "metadata": {
        "colab": {
          "base_uri": "https://localhost:8080/"
        },
        "id": "7nJC5kVG_j9K",
        "outputId": "fe41bb29-ac02-4c02-e5b6-86d8fc7f1b6e"
      },
      "execution_count": null,
      "outputs": [
        {
          "output_type": "stream",
          "name": "stdout",
          "text": [
            "Looking in indexes: https://pypi.org/simple, https://us-python.pkg.dev/colab-wheels/public/simple/\n",
            "Collecting rdkit\n",
            "  Downloading rdkit-2022.9.5-cp39-cp39-manylinux_2_17_x86_64.manylinux2014_x86_64.whl (29.4 MB)\n",
            "\u001b[2K     \u001b[90m━━━━━━━━━━━━━━━━━━━━━━━━━━━━━━━━━━━━━━━━\u001b[0m \u001b[32m29.4/29.4 MB\u001b[0m \u001b[31m49.1 MB/s\u001b[0m eta \u001b[36m0:00:00\u001b[0m\n",
            "\u001b[?25hRequirement already satisfied: numpy in /usr/local/lib/python3.9/dist-packages (from rdkit) (1.22.4)\n",
            "Requirement already satisfied: Pillow in /usr/local/lib/python3.9/dist-packages (from rdkit) (8.4.0)\n",
            "Installing collected packages: rdkit\n",
            "Successfully installed rdkit-2022.9.5\n"
          ]
        }
      ]
    },
    {
      "cell_type": "code",
      "execution_count": null,
      "metadata": {
        "id": "xDeczcMS-6O2"
      },
      "outputs": [],
      "source": [
        "import numpy as np\n",
        "\n",
        "import pandas as pd\n",
        "\n",
        "import matplotlib.pyplot as plt\n",
        "import matplotlib.lines as mlines\n",
        "\n",
        "import seaborn as sns\n",
        "\n",
        "import xgboost as xgb\n",
        "\n",
        "from sklearn.model_selection import train_test_split\n",
        "from sklearn.model_selection import RandomizedSearchCV\n",
        "from sklearn.metrics import confusion_matrix\n",
        "from sklearn.metrics import ConfusionMatrixDisplay\n",
        "from sklearn.metrics import accuracy_score\n",
        "from sklearn.metrics import precision_score\n",
        "from sklearn.metrics import recall_score\n",
        "from sklearn.metrics import f1_score\n",
        "\n",
        "from rdkit import RDLogger\n",
        "RDLogger.DisableLog('rdApp.*') # supress rdkit warnings\n",
        "from rdkit import Chem\n",
        "from rdkit.Chem import AllChem\n",
        "from rdkit.DataStructs.cDataStructs import ConvertToNumpyArray"
      ]
    },
    {
      "cell_type": "code",
      "source": [
        "df = pd.read_csv('/content/drive/MyDrive/AI-based planning of organic synthesis [data]/reactions_datasets/dataset_smiles_descriptors.tsv', sep=\"\\t\")"
      ],
      "metadata": {
        "colab": {
          "base_uri": "https://localhost:8080/"
        },
        "id": "BFzxCQIT_GaN",
        "outputId": "2f06a6c6-f9aa-4c21-f4e5-1b8b61dafaa0"
      },
      "execution_count": null,
      "outputs": [
        {
          "output_type": "stream",
          "name": "stderr",
          "text": [
            "<ipython-input-4-909493e922c6>:1: DtypeWarning: Columns (5,6,10,11,12,24,31,34,37,38,39,40,41,42) have mixed types. Specify dtype option on import or set low_memory=False.\n",
            "  df = pd.read_csv('/content/drive/MyDrive/AI-based planning of organic synthesis [data]/reactions_datasets/dataset_smiles_descriptors.tsv', sep=\"\\t\")\n"
          ]
        }
      ]
    },
    {
      "cell_type": "code",
      "source": [
        "def get_fingerprint(x, nBits):\n",
        "    fp_array = np.zeros((0,), dtype=np.int8)\n",
        "    if x is not None and type(x) != float:\n",
        "        mol = Chem.MolFromSmiles(x)\n",
        "        fp = AllChem.GetMorganFingerprintAsBitVect(mol, 2, nBits=nBits) \n",
        "        ConvertToNumpyArray(fp, fp_array)\n",
        "        return fp_array\n",
        "    else:\n",
        "        return np.zeros((nBits,), dtype=np.int8)"
      ],
      "metadata": {
        "id": "KLA1zRLu_wr6"
      },
      "execution_count": null,
      "outputs": []
    },
    {
      "cell_type": "code",
      "source": [
        "def get_yield_class(y):\n",
        "  if y <= 33:\n",
        "    c = 0 #low\n",
        "  elif y >= 34 and y <= 66:\n",
        "    c = 1 #medium\n",
        "  elif y >= 67:\n",
        "    c = 2 #high\n",
        "  return c"
      ],
      "metadata": {
        "id": "maU6CiTOhU09"
      },
      "execution_count": null,
      "outputs": []
    },
    {
      "cell_type": "code",
      "source": [
        "df_new = pd.DataFrame()"
      ],
      "metadata": {
        "id": "WLajsIUm_2fy"
      },
      "execution_count": null,
      "outputs": []
    },
    {
      "cell_type": "code",
      "source": [
        "df_new['yield_value'] = df['yield_value'].apply(get_yield_class).to_frame().set_index(df.index)"
      ],
      "metadata": {
        "id": "YDoHxO6shXWp"
      },
      "execution_count": null,
      "outputs": []
    },
    {
      "cell_type": "code",
      "source": [
        "df_new['product'] = df['products_smiles'].apply(get_fingerprint, nBits=512).to_frame().set_index(df.index)"
      ],
      "metadata": {
        "id": "Twn3LJil_4oG"
      },
      "execution_count": null,
      "outputs": []
    },
    {
      "cell_type": "code",
      "source": [
        "df_new['reactants_I'] = df['reactants_smiles'].apply(get_fingerprint, nBits=128).to_frame().set_index(df.index)"
      ],
      "metadata": {
        "id": "nmdeCwbm_6Sz"
      },
      "execution_count": null,
      "outputs": []
    },
    {
      "cell_type": "code",
      "source": [
        "df_new['reactants_II'] = df['reactants_II_smiles'].apply(get_fingerprint, nBits=128).to_frame().set_index(df.index)"
      ],
      "metadata": {
        "id": "Ew1GKl2aATbt"
      },
      "execution_count": null,
      "outputs": []
    },
    {
      "cell_type": "code",
      "source": [
        "df_new['reaction'] = df_new[['reactants_I', 'reactants_II', 'product']].apply(np.concatenate, axis=1)\n",
        "reactions_fp = pd.DataFrame(df_new.loc[:, 'reaction'].values.tolist())"
      ],
      "metadata": {
        "id": "ZDK-4yqkAY5I"
      },
      "execution_count": null,
      "outputs": []
    },
    {
      "cell_type": "code",
      "source": [
        "X_train_3, X_test_3, y_train_3, y_test_3 = train_test_split(reactions_fp, df_new['yield_value'], test_size=0.25, random_state=42, shuffle=True)"
      ],
      "metadata": {
        "id": "YGTxLSjqAbkx"
      },
      "execution_count": null,
      "outputs": []
    },
    {
      "cell_type": "code",
      "source": [
        "model = xgb.XGBClassifier(random_state=1)\n",
        "model.fit(X_train_3, y_train_3)"
      ],
      "metadata": {
        "id": "QZ4zJ1sEAocP"
      },
      "execution_count": null,
      "outputs": []
    },
    {
      "cell_type": "code",
      "source": [
        "y_test_pred = model.predict(X_test_3)"
      ],
      "metadata": {
        "id": "F54iEwCak5mq"
      },
      "execution_count": null,
      "outputs": []
    },
    {
      "cell_type": "code",
      "source": [
        "print('Accuracy:', accuracy_score(y_test_3, y_test_pred))\n",
        "print('Precision:', precision_score(y_test_3, y_test_pred, average='weighted'))\n",
        "print('Recall:', recall_score(y_test_3, y_test_pred, average='weighted'))\n",
        "print('F1-score:', f1_score(y_test_3, y_test_pred, average='weighted'))"
      ],
      "metadata": {
        "colab": {
          "base_uri": "https://localhost:8080/"
        },
        "id": "IYkTDj-uA5so",
        "outputId": "ef49fec1-2952-4644-a62a-69a9d65d5542"
      },
      "execution_count": null,
      "outputs": [
        {
          "output_type": "stream",
          "name": "stdout",
          "text": [
            "Accuracy: 0.7481549476776207\n",
            "Precision: 0.7090370388442009\n",
            "Recall: 0.7481549476776207\n",
            "F1-score: 0.6778053458000308\n"
          ]
        }
      ]
    },
    {
      "cell_type": "code",
      "source": [
        "cm = confusion_matrix(y_test_3, y_test_pred)\n",
        "cm_display = ConfusionMatrixDisplay(cm).plot(cmap=plt.cm.RdPu)\n",
        "cm_display"
      ],
      "metadata": {
        "colab": {
          "base_uri": "https://localhost:8080/",
          "height": 467
        },
        "id": "GwIo3lhZlDTt",
        "outputId": "3eb0aa20-97fe-4cd8-dafa-b51d8678116d"
      },
      "execution_count": null,
      "outputs": [
        {
          "output_type": "execute_result",
          "data": {
            "text/plain": [
              "<sklearn.metrics._plot.confusion_matrix.ConfusionMatrixDisplay at 0x7f0581455280>"
            ]
          },
          "metadata": {},
          "execution_count": 35
        },
        {
          "output_type": "display_data",
          "data": {
            "text/plain": [
              "<Figure size 640x480 with 2 Axes>"
            ],
            "image/png": "[encoded data removed]"
          },
          "metadata": {}
        }
      ]
    },
    {
      "cell_type": "code",
      "source": [
        "y_train_pred = model.predict(X_train_3)"
      ],
      "metadata": {
        "id": "p5ylMArIcCqV"
      },
      "execution_count": null,
      "outputs": []
    },
    {
      "cell_type": "code",
      "source": [
        "print('Accuracy:', accuracy_score(y_train_3, y_train_pred))\n",
        "print('Precision:', precision_score(y_train_3, y_train_pred, average='weighted'))\n",
        "print('Recall:', recall_score(y_train_3, y_train_pred, average='weighted'))\n",
        "print('F1-score:', f1_score(y_train_3, y_train_pred, average='weighted'))"
      ],
      "metadata": {
        "colab": {
          "base_uri": "https://localhost:8080/"
        },
        "id": "8bDeaVp7d8AD",
        "outputId": "9a5b8943-d53b-4347-c5d3-64f305246d59"
      },
      "execution_count": null,
      "outputs": [
        {
          "output_type": "stream",
          "name": "stdout",
          "text": [
            "Accuracy: 0.8005434383491224\n",
            "Precision: 0.8256744130022092\n",
            "Recall: 0.8005434383491224\n",
            "F1-score: 0.7562186049613491\n"
          ]
        }
      ]
    },
    {
      "cell_type": "code",
      "source": [
        "cm = confusion_matrix(y_train_3, y_train_pred)\n",
        "cm_display = ConfusionMatrixDisplay(cm).plot(cmap=plt.cm.BuGn)\n",
        "cm_display"
      ],
      "metadata": {
        "colab": {
          "base_uri": "https://localhost:8080/",
          "height": 467
        },
        "id": "ms_2lrlclYMx",
        "outputId": "50025e46-a073-4c3e-c0ad-8c3d85b6ee95"
      },
      "execution_count": null,
      "outputs": [
        {
          "output_type": "execute_result",
          "data": {
            "text/plain": [
              "<sklearn.metrics._plot.confusion_matrix.ConfusionMatrixDisplay at 0x7f05813c94c0>"
            ]
          },
          "metadata": {},
          "execution_count": 36
        },
        {
          "output_type": "display_data",
          "data": {
            "text/plain": [
              "<Figure size 640x480 with 2 Axes>"
            ],
            "image/png": "[encoded data removed]"
          },
          "metadata": {}
        }
      ]
    }
  ]
}